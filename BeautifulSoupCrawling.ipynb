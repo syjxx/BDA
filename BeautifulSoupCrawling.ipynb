{
  "nbformat": 4,
  "nbformat_minor": 0,
  "metadata": {
    "colab": {
      "provenance": []
    },
    "kernelspec": {
      "display_name": "Python 3",
      "language": "python",
      "name": "python3"
    },
    "language_info": {
      "codemirror_mode": {
        "name": "ipython",
        "version": 3
      },
      "file_extension": ".py",
      "mimetype": "text/x-python",
      "name": "python",
      "nbconvert_exporter": "python",
      "pygments_lexer": "ipython3",
      "version": "3.8.3"
    }
  },
  "cells": [
    {
      "cell_type": "markdown",
      "metadata": {
        "id": "y9T-fsmIyc50"
      },
      "source": [
        "# **BeautifulSoup을 이용한 크롤링**"
      ]
    },
    {
      "cell_type": "markdown",
      "metadata": {
        "id": "wX_jbfPYrhyK"
      },
      "source": [
        "## **1. 네이버 주식으로 순위 가져오기**"
      ]
    },
    {
      "cell_type": "markdown",
      "metadata": {
        "id": "j8yHH5XG-N6E"
      },
      "source": [
        "1. 모듈 가져오기"
      ]
    },
    {
      "cell_type": "code",
      "metadata": {
        "id": "5BInkkeIbwcX",
        "scrolled": true
      },
      "source": [
        "import requests\n",
        "from bs4 import BeautifulSoup"
      ],
      "execution_count": null,
      "outputs": []
    },
    {
      "cell_type": "code",
      "metadata": {
        "colab": {
          "base_uri": "https://localhost:8080/"
        },
        "id": "UiocYLEGZD1i",
        "outputId": "bc0a7e4a-c234-425f-952b-b45c94141467"
      },
      "source": [
        "%whos"
      ],
      "execution_count": null,
      "outputs": [
        {
          "output_type": "stream",
          "text": [
            "Variable        Type             Data/Info\n",
            "------------------------------------------\n",
            "BeautifulSoup   type             <class 'bs4.BeautifulSoup'>\n",
            "requests        module           <module 'requests' from '<...>es/requests/__init__.py'>\n",
            "res             Response         <Response [200]>\n",
            "soup            BeautifulSoup    <!--  global include --><<...>/div>\\n</body>\\n</html>\\n\n",
            "url             str              https://finance.naver.com/sise/sise_quant.nhn\n"
          ],
          "name": "stdout"
        }
      ]
    },
    {
      "cell_type": "markdown",
      "metadata": {
        "id": "--ycWhto-Vgi"
      },
      "source": [
        "2. 가져올 URL 선택 & requests로 html 정보 가져오기"
      ]
    },
    {
      "cell_type": "code",
      "metadata": {
        "id": "o8xH-jEv1Ew6"
      },
      "source": [
        "url = \"https://finance.naver.com/sise/sise_quant.nhn\"\n",
        "\n",
        "res = requests.get(url)\n",
        "res.raise_for_status()\n",
        "\n",
        "soup = BeautifulSoup(res.text , \"lxml\") # xml을 파싱하기 위한 패키지"
      ],
      "execution_count": null,
      "outputs": []
    },
    {
      "cell_type": "markdown",
      "metadata": {
        "id": "IERWe3-m-eas"
      },
      "source": [
        "3. 주식 이름 가져오기"
      ]
    },
    {
      "cell_type": "code",
      "metadata": {
        "id": "nNtSue--0Djn"
      },
      "source": [
        "STOCK_NAME_LIST = []\n",
        "\n",
        "for tr in soup.find_all('tr'): # find_all : 해당 모든 태그를 리스트 형태로 불러온다\n",
        "    stockName = tr.find('a', class_='tltle') # find : 태그값을 기준으로 내용 불러오기, 최초 검색 결과만 출력\n",
        "    if stockName is None or stockName == []:\n",
        "        pass\n",
        "    else:\n",
        "        Name = stockName.text\n",
        "        STOCK_NAME_LIST.append(Name)\n",
        "\n",
        "STOCK_NAME_LIST"
      ],
      "execution_count": null,
      "outputs": []
    },
    {
      "cell_type": "code",
      "metadata": {
        "colab": {
          "base_uri": "https://localhost:8080/"
        },
        "id": "GgwDAhfQgKYM",
        "outputId": "c6dd9c03-0449-4710-ea25-a13555b4f83b"
      },
      "source": [
        "%whos"
      ],
      "execution_count": null,
      "outputs": [
        {
          "output_type": "stream",
          "text": [
            "Variable          Type             Data/Info\n",
            "--------------------------------------------\n",
            "BeautifulSoup     type             <class 'bs4.BeautifulSoup'>\n",
            "Name              str              한창제지\n",
            "STOCK_NAME_LIST   list             n=100\n",
            "requests          module           <module 'requests' from '<...>es/requests/__init__.py'>\n",
            "res               Response         <Response [200]>\n",
            "soup              BeautifulSoup    <!--  global include --><<...>/div>\\n</body>\\n</html>\\n\n",
            "stockName         NoneType         None\n",
            "tr                Tag              <tr><td class=\"blank_09\" colspan=\"12\"></td></tr>\n",
            "url               str              https://finance.naver.com/sise/sise_quant.nhn\n"
          ],
          "name": "stdout"
        }
      ]
    },
    {
      "cell_type": "markdown",
      "metadata": {
        "id": "2N-SS2Xl-jmt"
      },
      "source": [
        "4. 주식 가격 가져오기"
      ]
    },
    {
      "cell_type": "code",
      "metadata": {
        "id": "xFkP1g3T0KCW"
      },
      "source": [
        "STOCK_PRICE_LIST = []\n",
        "\n",
        "for tr in soup.find_all('tr'):\n",
        "    stockPrice = tr.find('td', class_= 'number')\n",
        "    if stockPrice is None or stockPrice == []:\n",
        "        pass\n",
        "    else:\n",
        "        Price = stockPrice.text\n",
        "        Price = Price.replace(\",\",\"\")\n",
        "        STOCK_PRICE_LIST.append(Price)\n",
        "\n",
        "STOCK_PRICE_LIST"
      ],
      "execution_count": null,
      "outputs": []
    },
    {
      "cell_type": "markdown",
      "metadata": {
        "id": "ktgTpvE_-qN6"
      },
      "source": [
        "5. 주식 이름과 가격을 리스트로 만들어 출력하기"
      ]
    },
    {
      "cell_type": "code",
      "metadata": {
        "id": "CAeI4YBk0LlE",
        "colab": {
          "base_uri": "https://localhost:8080/"
        },
        "outputId": "0a687898-c324-4eb6-8d34-1932db7f1b1f"
      },
      "source": [
        "STOCK_LIST = []\n",
        "\n",
        "for i in range(len(STOCK_NAME_LIST)):\n",
        "  stockInfo = \"%d위: %s (%d)\" %(i+1,STOCK_NAME_LIST[i],int(STOCK_PRICE_LIST[i]))\n",
        "  STOCK_LIST.append(stockInfo)\n",
        "\n",
        "STOCK_LIST"
      ],
      "execution_count": null,
      "outputs": [
        {
          "output_type": "execute_result",
          "data": {
            "text/plain": [
              "['1위: 대한전선 (3215)',\n",
              " '2위: KODEX 200선물인버스2X (1880)',\n",
              " '3위: 이아이디 (519)',\n",
              " '4위: 쌍방울 (896)',\n",
              " '5위: 진원생명과학 (42250)',\n",
              " '6위: 서울식품 (401)',\n",
              " '7위: 대유플러스 (1665)',\n",
              " '8위: 사조동아원 (1475)',\n",
              " '9위: KODEX 인버스 (3710)',\n",
              " '10위: 영화금속 (2390)',\n",
              " '11위: 대원전선 (2980)',\n",
              " '12위: KODEX 코스닥150선물인버스 (4405)',\n",
              " '13위: KODEX 레버리지 (28915)',\n",
              " '14위: 두산중공업 (26100)',\n",
              " '15위: 삼성전자 (80000)',\n",
              " '16위: 팬오션 (7520)',\n",
              " '17위: 두산인프라코어 (16450)',\n",
              " '18위: 대우건설 (8540)',\n",
              " '19위: 동양 (2020)',\n",
              " '20위: 신성통상 (3290)',\n",
              " '21위: 우리종금 (1040)',\n",
              " '22위: 일신석재 (2595)',\n",
              " '23위: 카카오 (169000)',\n",
              " '24위: DSR제강 (6980)',\n",
              " '25위: 대유에이텍 (1480)',\n",
              " '26위: KODEX 코스닥150 레버리지 (15260)',\n",
              " '27위: 동양철관 (1785)',\n",
              " '28위: 삼성중공업 (6580)',\n",
              " '29위: 한세엠케이 (7090)',\n",
              " '30위: 신성이엔지 (2955)',\n",
              " '31위: 케이비아이동국실업 (1265)',\n",
              " '32위: 광명전기 (3270)',\n",
              " '33위: KH 필룩스 (3495)',\n",
              " '34위: 보해양조 (1240)',\n",
              " '35위: 팜젠사이언스 (12750)',\n",
              " '36위: 삼성엔지니어링 (25950)',\n",
              " '37위: HMM (42750)',\n",
              " '38위: TYM (1995)',\n",
              " '39위: 대한항공 (31850)',\n",
              " '40위: 태평양물산 (2780)',\n",
              " '41위: 한온시스템 (16900)',\n",
              " '42위: 미래아이앤지 (671)',\n",
              " '43위: 한솔로지스틱스 (4695)',\n",
              " '44위: 한국전력 (24600)',\n",
              " '45위: LG헬로비전 (8210)',\n",
              " '46위: DSR (7300)',\n",
              " '47위: SK증권 (1030)',\n",
              " '48위: LG디스플레이 (23900)',\n",
              " '49위: 오리엔트바이오 (1590)',\n",
              " '50위: 흥국화재 (4630)',\n",
              " '51위: 한화생명 (3715)',\n",
              " '52위: 덕양산업 (4000)',\n",
              " '53위: 이연제약 (49600)',\n",
              " '54위: 삼성제약 (8780)',\n",
              " '55위: 한창제지 (2765)',\n",
              " '56위: TIGER 차이나전기차SOLACTIVE (14145)',\n",
              " '57위: 이월드 (3540)',\n",
              " '58위: SIMPAC (5150)',\n",
              " '59위: 대한해운 (3445)',\n",
              " '60위: IHQ (1845)',\n",
              " '61위: 넥스트사이언스 (14450)',\n",
              " '62위: 에이프로젠 MED (2325)',\n",
              " '63위: 한창 (1490)',\n",
              " '64위: 웅진 (3065)',\n",
              " '65위: 에넥스 (2790)',\n",
              " '66위: 진흥기업 (2950)',\n",
              " '67위: 한솔홈데코 (2225)',\n",
              " '68위: KEC (2430)',\n",
              " '69위: 한전산업 (9550)',\n",
              " '70위: NAVER (423000)',\n",
              " '71위: 주연테크 (1250)',\n",
              " '72위: SG세계물산 (843)',\n",
              " '73위: KC코트렐 (7380)',\n",
              " '74위: 티웨이항공 (4080)',\n",
              " '75위: KODEX 200 (43600)',\n",
              " '76위: 신풍제약 (82600)',\n",
              " '77위: 신원 (1945)',\n",
              " '78위: 마니커 (764)',\n",
              " '79위: 삼영화학 (3140)',\n",
              " '80위: SK하이닉스 (124000)',\n",
              " '81위: 디피씨 (14200)',\n",
              " '82위: 웰바이오텍 (3110)',\n",
              " '83위: TIGER 200선물인버스2X (1950)',\n",
              " '84위: 큐로 (608)',\n",
              " '85위: SH에너지화학 (1220)',\n",
              " '86위: 해성디에스 (39100)',\n",
              " '87위: 한화투자증권 (4750)',\n",
              " '88위: 삼부토건 (2780)',\n",
              " '89위: 금호타이어 (7710)',\n",
              " '90위: LG유플러스 (15500)',\n",
              " '91위: 삼성 인버스 2X WTI원유 선물 ETN (485)',\n",
              " '92위: 이스타코 (4125)',\n",
              " '93위: 기아 (90100)',\n",
              " '94위: 현대로템 (23950)',\n",
              " '95위: 한화시스템 (17100)',\n",
              " '96위: 대웅 (43250)',\n",
              " '97위: 삼성 레버리지 WTI원유 선물 ETN (980)',\n",
              " '98위: 동방 (6310)',\n",
              " '99위: 세원이앤씨 (2055)',\n",
              " '100위: 두올 (5280)']"
            ]
          },
          "metadata": {
            "tags": []
          },
          "execution_count": 5
        }
      ]
    },
    {
      "cell_type": "markdown",
      "metadata": {
        "id": "pbHamrOAwUzj"
      },
      "source": [
        "##**2. 인터넷 서점에서 순위 가져오기**\n"
      ]
    },
    {
      "cell_type": "markdown",
      "metadata": {
        "id": "3lSOTu0H-xnM"
      },
      "source": [
        "1. 모듈 가져오기"
      ]
    },
    {
      "cell_type": "code",
      "metadata": {
        "id": "mU05ZD0BF-sZ",
        "scrolled": true
      },
      "source": [
        "import requests\n",
        "from bs4 import BeautifulSoup"
      ],
      "execution_count": null,
      "outputs": []
    },
    {
      "cell_type": "markdown",
      "metadata": {
        "id": "uNu9GIHV-1b-"
      },
      "source": [
        "2. 가져올 URL 선택 & requests로 html 정보 가져오기"
      ]
    },
    {
      "cell_type": "code",
      "metadata": {
        "id": "Na7poHuU1GZZ"
      },
      "source": [
        "#알라딘 도서 순위\n",
        "url = \"https://www.aladin.co.kr/shop/common/wbest.aspx?BranchType=1\"\n",
        "\n",
        "res = requests.get(url)\n",
        "res.raise_for_status()\n",
        "\n",
        "soup = BeautifulSoup(res.text , \"lxml\")"
      ],
      "execution_count": null,
      "outputs": []
    },
    {
      "cell_type": "markdown",
      "metadata": {
        "id": "EljMBcLN_EZY"
      },
      "source": [
        "3. 책 정보 가져오기"
      ]
    },
    {
      "cell_type": "code",
      "metadata": {
        "id": "HH-hj5-PtkmG",
        "colab": {
          "base_uri": "https://localhost:8080/"
        },
        "outputId": "cdce5856-dbcc-4fef-e474-e21fa6691891"
      },
      "source": [
        "BOOK_LIST = []\n",
        "\n",
        "div = soup.find_all('div',class_= 'ss_book_box')\n",
        "\n",
        "for a in div:\n",
        "  book_list = a.find_all('a',class_='bo3')\n",
        "  for book in book_list:\n",
        "    bt = book.get_text()\n",
        "    bt = bt.replace('\\n','')\n",
        "    BOOK_LIST.append(bt)\n",
        "\n",
        "BOOK_LIST"
      ],
      "execution_count": null,
      "outputs": [
        {
          "output_type": "execute_result",
          "data": {
            "text/plain": [
              "['조국의 시간',\n",
              " '완전한 행복',\n",
              " '청사과 낙원 시즌 2 : 1~3 세트 - 전3권 (낱권 일러스트 엽서 3종 + 종이 인형 1종 + 렌티큘러 엽서 1종 + 별책 부록 + 박스 세트 포함)',\n",
              " '소크라테스 익스프레스',\n",
              " '요츠바랑! 15',\n",
              " '부의 시나리오',\n",
              " '친구의 전설',\n",
              " '지구인만큼 지구를 사랑할 순 없어',\n",
              " '해커스 토익 기출 보카 TOEIC VOCA 단어장',\n",
              " '최애의 아이 3',\n",
              " '미드나잇 라이브러리',\n",
              " '매매의 기술',\n",
              " '설민석의 한국사 대모험 17',\n",
              " '추미애의 깃발',\n",
              " '그러라 그래',\n",
              " '2021 큰별쌤 최태성의 별★별한국사 한국사능력검정시험 심화(1, 2, 3급) 상',\n",
              " '플롯 강화',\n",
              " 'ETS 토익 정기시험 기출문제집 1000 Vol. 2 Reading (리딩)',\n",
              " '2021 큰별쌤 최태성의 별★별한국사 한국사능력검정시험 심화(1, 2, 3급) 하',\n",
              " '달러구트 꿈 백화점 (50만 부 기념 드림 에디션)',\n",
              " '새벽의 연화 34',\n",
              " 'ETS 토익 정기시험 기출문제집 1000 Vol. 2 Listening (리스닝)',\n",
              " '2022 문동균 한국사 한 권으로 모든 것을 정리하는 판서노트',\n",
              " '고양이 해결사 깜냥 3',\n",
              " '죽음의 수용소에서',\n",
              " '세금 내는 아이들',\n",
              " '정신병의 나라에서 왔습니다',\n",
              " '헤르만 헤세의 나무들',\n",
              " '돈의 역사는 되풀이된다',\n",
              " '긴긴밤',\n",
              " '명탐정 코난 99',\n",
              " '우리말 어감 사전',\n",
              " '어떻게 말해줘야 할까',\n",
              " '인간교육을 위한 새로운 흐름',\n",
              " '강원국의 어른답게 말합니다',\n",
              " '설민석의 세계사 대모험 9',\n",
              " '해커스 토익 RC 리딩 READING',\n",
              " '2021 제12회 젊은작가상 수상작품집',\n",
              " '우리의 뇌는 어떻게 배우는가',\n",
              " '드래곤볼 슈퍼 15',\n",
              " '당신에게 시가 있다면 당신은 혼자가 아닙니다',\n",
              " '나의 히어로 아카데미아 30',\n",
              " '타인의 집',\n",
              " '열혈강호 83',\n",
              " '해커스 토익 LC 리스닝 LISTENING',\n",
              " '귀멸의 칼날 23',\n",
              " '문명 1',\n",
              " '어린이라는 세계',\n",
              " '해커스 토익 스타트 리딩 RC',\n",
              " '그렇게 그렇게']"
            ]
          },
          "metadata": {
            "tags": []
          },
          "execution_count": 13
        }
      ]
    },
    {
      "cell_type": "markdown",
      "metadata": {
        "id": "t_kxgoyg_JXE"
      },
      "source": [
        "4. 책 정보 리스트로 출력"
      ]
    },
    {
      "cell_type": "code",
      "metadata": {
        "id": "Tynm36g50mJN",
        "colab": {
          "base_uri": "https://localhost:8080/"
        },
        "outputId": "88f3d015-edf9-4cb5-8a32-28be57ab07de"
      },
      "source": [
        "RANK = []\n",
        "\n",
        "for i in range(len(BOOK_LIST)):\n",
        "  bookInfo = [i+1, BOOK_LIST[i]]\n",
        "  RANK.append(bookInfo)\n",
        "\n",
        "RANK"
      ],
      "execution_count": null,
      "outputs": [
        {
          "output_type": "execute_result",
          "data": {
            "text/plain": [
              "[[1, '조국의 시간'],\n",
              " [2, '완전한 행복'],\n",
              " [3,\n",
              "  '청사과 낙원 시즌 2 : 1~3 세트 - 전3권 (낱권 일러스트 엽서 3종 + 종이 인형 1종 + 렌티큘러 엽서 1종 + 별책 부록 + 박스 세트 포함)'],\n",
              " [4, '소크라테스 익스프레스'],\n",
              " [5, '요츠바랑! 15'],\n",
              " [6, '부의 시나리오'],\n",
              " [7, '친구의 전설'],\n",
              " [8, '지구인만큼 지구를 사랑할 순 없어'],\n",
              " [9, '해커스 토익 기출 보카 TOEIC VOCA 단어장'],\n",
              " [10, '최애의 아이 3'],\n",
              " [11, '미드나잇 라이브러리'],\n",
              " [12, '매매의 기술'],\n",
              " [13, '설민석의 한국사 대모험 17'],\n",
              " [14, '추미애의 깃발'],\n",
              " [15, '그러라 그래'],\n",
              " [16, '2021 큰별쌤 최태성의 별★별한국사 한국사능력검정시험 심화(1, 2, 3급) 상'],\n",
              " [17, '플롯 강화'],\n",
              " [18, 'ETS 토익 정기시험 기출문제집 1000 Vol. 2 Reading (리딩)'],\n",
              " [19, '2021 큰별쌤 최태성의 별★별한국사 한국사능력검정시험 심화(1, 2, 3급) 하'],\n",
              " [20, '달러구트 꿈 백화점 (50만 부 기념 드림 에디션)'],\n",
              " [21, '새벽의 연화 34'],\n",
              " [22, 'ETS 토익 정기시험 기출문제집 1000 Vol. 2 Listening (리스닝)'],\n",
              " [23, '2022 문동균 한국사 한 권으로 모든 것을 정리하는 판서노트'],\n",
              " [24, '고양이 해결사 깜냥 3'],\n",
              " [25, '죽음의 수용소에서'],\n",
              " [26, '세금 내는 아이들'],\n",
              " [27, '정신병의 나라에서 왔습니다'],\n",
              " [28, '헤르만 헤세의 나무들'],\n",
              " [29, '돈의 역사는 되풀이된다'],\n",
              " [30, '긴긴밤'],\n",
              " [31, '명탐정 코난 99'],\n",
              " [32, '우리말 어감 사전'],\n",
              " [33, '어떻게 말해줘야 할까'],\n",
              " [34, '인간교육을 위한 새로운 흐름'],\n",
              " [35, '강원국의 어른답게 말합니다'],\n",
              " [36, '설민석의 세계사 대모험 9'],\n",
              " [37, '해커스 토익 RC 리딩 READING'],\n",
              " [38, '2021 제12회 젊은작가상 수상작품집'],\n",
              " [39, '우리의 뇌는 어떻게 배우는가'],\n",
              " [40, '드래곤볼 슈퍼 15'],\n",
              " [41, '당신에게 시가 있다면 당신은 혼자가 아닙니다'],\n",
              " [42, '나의 히어로 아카데미아 30'],\n",
              " [43, '타인의 집'],\n",
              " [44, '열혈강호 83'],\n",
              " [45, '해커스 토익 LC 리스닝 LISTENING'],\n",
              " [46, '귀멸의 칼날 23'],\n",
              " [47, '문명 1'],\n",
              " [48, '어린이라는 세계'],\n",
              " [49, '해커스 토익 스타트 리딩 RC'],\n",
              " [50, '그렇게 그렇게']]"
            ]
          },
          "metadata": {
            "tags": []
          },
          "execution_count": 14
        }
      ]
    },
    {
      "cell_type": "markdown",
      "metadata": {
        "id": "MbUxUGDgZ5hP"
      },
      "source": [
        "##**3. 국가별 환율 가져오기**\n"
      ]
    },
    {
      "cell_type": "markdown",
      "metadata": {
        "id": "umkfmf1DbWW7"
      },
      "source": [
        "1. 모듈 가져오기"
      ]
    },
    {
      "cell_type": "code",
      "metadata": {
        "id": "z8dKcnLRZ51N"
      },
      "source": [
        "import requests\n",
        "from bs4 import BeautifulSoup\n",
        "from pandas import DataFrame as df"
      ],
      "execution_count": null,
      "outputs": []
    },
    {
      "cell_type": "markdown",
      "metadata": {
        "id": "WgUd8iF_bbJP"
      },
      "source": [
        "2. 가져올 URL 선택 & requests로 html 정보 가져오기"
      ]
    },
    {
      "cell_type": "code",
      "metadata": {
        "id": "0O99K5jcbbR4"
      },
      "source": [
        "url = \"https://finance.naver.com/marketindex/exchangeDailyQuote.nhn?marketindexCd=FX_USDKRW&page=1\"\n",
        "\n",
        "res = requests.get(url)\n",
        "res.raise_for_status()\n",
        "\n",
        "soup = BeautifulSoup(res.text , \"lxml\") # xml을 파싱하기 위한 패키지"
      ],
      "execution_count": null,
      "outputs": []
    },
    {
      "cell_type": "markdown",
      "metadata": {
        "id": "LIIhb_VAbbYY"
      },
      "source": [
        "3. 환율 정보 가져오기"
      ]
    },
    {
      "cell_type": "code",
      "metadata": {
        "id": "aKkiNUT1bbgL"
      },
      "source": [
        "DATE = [] # 날짜\n",
        "PRICE = [] # 환율\n",
        "\n",
        "tbody = soup.find('tbody')\n",
        "tr = tbody.find_all('tr')#,class_= 'up')\n",
        "\n",
        "for td in tr:\n",
        "  date = td.find('td',class_='date').text\n",
        "  DATE.append(date)\n",
        "  price = td.find('td',class_='num').text\n",
        "  PRICE.append(price)"
      ],
      "execution_count": null,
      "outputs": []
    },
    {
      "cell_type": "markdown",
      "metadata": {
        "id": "FOkUgCLrkLfT"
      },
      "source": [
        "4. 리스트를 딕셔너리 형태로 만들기 & 데이터프레임으로 출력하기"
      ]
    },
    {
      "cell_type": "code",
      "metadata": {
        "id": "LOmNXSj8g69o"
      },
      "source": [
        "dict_data= {\n",
        "    \"DATE\":DATE,\n",
        "    \"PRICE\":PRICE\n",
        "}"
      ],
      "execution_count": null,
      "outputs": []
    },
    {
      "cell_type": "code",
      "metadata": {
        "id": "yJLVCarikSuX",
        "colab": {
          "base_uri": "https://localhost:8080/"
        },
        "outputId": "ead06939-810e-46f8-e062-e2c72472c26f"
      },
      "source": [
        "dict_data"
      ],
      "execution_count": null,
      "outputs": [
        {
          "output_type": "execute_result",
          "data": {
            "text/plain": [
              "{'DATE': ['2021.06.29',\n",
              "  '2021.06.28',\n",
              "  '2021.06.25',\n",
              "  '2021.06.24',\n",
              "  '2021.06.23',\n",
              "  '2021.06.22',\n",
              "  '2021.06.21',\n",
              "  '2021.06.18',\n",
              "  '2021.06.17',\n",
              "  '2021.06.16'],\n",
              " 'PRICE': ['1,129.00',\n",
              "  '1,131.50',\n",
              "  '1,128.50',\n",
              "  '1,133.00',\n",
              "  '1,136.50',\n",
              "  '1,135.00',\n",
              "  '1,133.00',\n",
              "  '1,132.00',\n",
              "  '1,134.00',\n",
              "  '1,118.50']}"
            ]
          },
          "metadata": {
            "tags": []
          },
          "execution_count": 21
        }
      ]
    },
    {
      "cell_type": "code",
      "metadata": {
        "colab": {
          "base_uri": "https://localhost:8080/",
          "height": 360
        },
        "id": "yLRjIrNwg8wt",
        "outputId": "e432b704-7e55-4e9f-cc32-f1ea3aaa4454"
      },
      "source": [
        "chart = df(dict_data)\n",
        "chart"
      ],
      "execution_count": null,
      "outputs": [
        {
          "output_type": "execute_result",
          "data": {
            "text/html": [
              "<div>\n",
              "<style scoped>\n",
              "    .dataframe tbody tr th:only-of-type {\n",
              "        vertical-align: middle;\n",
              "    }\n",
              "\n",
              "    .dataframe tbody tr th {\n",
              "        vertical-align: top;\n",
              "    }\n",
              "\n",
              "    .dataframe thead th {\n",
              "        text-align: right;\n",
              "    }\n",
              "</style>\n",
              "<table border=\"1\" class=\"dataframe\">\n",
              "  <thead>\n",
              "    <tr style=\"text-align: right;\">\n",
              "      <th></th>\n",
              "      <th>DATE</th>\n",
              "      <th>PRICE</th>\n",
              "    </tr>\n",
              "  </thead>\n",
              "  <tbody>\n",
              "    <tr>\n",
              "      <th>0</th>\n",
              "      <td>2021.06.29</td>\n",
              "      <td>1,129.00</td>\n",
              "    </tr>\n",
              "    <tr>\n",
              "      <th>1</th>\n",
              "      <td>2021.06.28</td>\n",
              "      <td>1,131.50</td>\n",
              "    </tr>\n",
              "    <tr>\n",
              "      <th>2</th>\n",
              "      <td>2021.06.25</td>\n",
              "      <td>1,128.50</td>\n",
              "    </tr>\n",
              "    <tr>\n",
              "      <th>3</th>\n",
              "      <td>2021.06.24</td>\n",
              "      <td>1,133.00</td>\n",
              "    </tr>\n",
              "    <tr>\n",
              "      <th>4</th>\n",
              "      <td>2021.06.23</td>\n",
              "      <td>1,136.50</td>\n",
              "    </tr>\n",
              "    <tr>\n",
              "      <th>5</th>\n",
              "      <td>2021.06.22</td>\n",
              "      <td>1,135.00</td>\n",
              "    </tr>\n",
              "    <tr>\n",
              "      <th>6</th>\n",
              "      <td>2021.06.21</td>\n",
              "      <td>1,133.00</td>\n",
              "    </tr>\n",
              "    <tr>\n",
              "      <th>7</th>\n",
              "      <td>2021.06.18</td>\n",
              "      <td>1,132.00</td>\n",
              "    </tr>\n",
              "    <tr>\n",
              "      <th>8</th>\n",
              "      <td>2021.06.17</td>\n",
              "      <td>1,134.00</td>\n",
              "    </tr>\n",
              "    <tr>\n",
              "      <th>9</th>\n",
              "      <td>2021.06.16</td>\n",
              "      <td>1,118.50</td>\n",
              "    </tr>\n",
              "  </tbody>\n",
              "</table>\n",
              "</div>"
            ],
            "text/plain": [
              "         DATE     PRICE\n",
              "0  2021.06.29  1,129.00\n",
              "1  2021.06.28  1,131.50\n",
              "2  2021.06.25  1,128.50\n",
              "3  2021.06.24  1,133.00\n",
              "4  2021.06.23  1,136.50\n",
              "5  2021.06.22  1,135.00\n",
              "6  2021.06.21  1,133.00\n",
              "7  2021.06.18  1,132.00\n",
              "8  2021.06.17  1,134.00\n",
              "9  2021.06.16  1,118.50"
            ]
          },
          "metadata": {
            "tags": []
          },
          "execution_count": 22
        }
      ]
    },
    {
      "cell_type": "markdown",
      "metadata": {
        "id": "PAcPN5lpbbmT"
      },
      "source": [
        "5. 함수로 만들기"
      ]
    },
    {
      "cell_type": "code",
      "metadata": {
        "id": "lErzqD8NbbsP"
      },
      "source": [
        "def exchange(unit,page):\n",
        "  url = \"https://finance.naver.com/marketindex/exchangeDailyQuote.nhn?marketindexCd=FX_%sKRW&page=%d\" %(unit,page)\n",
        "\n",
        "  res = requests.get(url)\n",
        "  res.raise_for_status()\n",
        "\n",
        "  soup = BeautifulSoup(res.text , \"lxml\") # xml을 파싱하기 위한 패키지\n",
        "\n",
        "  DATE = []\n",
        "  PRICE = []\n",
        "\n",
        "  tbody = soup.find('tbody')\n",
        "  tr = tbody.find_all('tr')#,class_= 'up')\n",
        "\n",
        "  for td in tr:\n",
        "    date = td.find('td',class_='date').text\n",
        "    DATE.append(date)\n",
        "    price = td.find('td',class_='num').text\n",
        "    PRICE.append(price)\n",
        "\n",
        "  dict_data= {\n",
        "  \"DATE\":DATE,\n",
        "  \"PRICE\":PRICE\n",
        "  }\n",
        "\n",
        "  chart = df(dict_data)\n",
        "  return chart"
      ],
      "execution_count": null,
      "outputs": []
    },
    {
      "cell_type": "code",
      "metadata": {
        "colab": {
          "base_uri": "https://localhost:8080/"
        },
        "id": "G1mRThzVnfFz",
        "outputId": "16bca50d-9aae-46fc-aa46-1750e2e73444"
      },
      "source": [
        "%whos"
      ],
      "execution_count": null,
      "outputs": [
        {
          "output_type": "stream",
          "text": [
            "Variable           Type             Data/Info\n",
            "---------------------------------------------\n",
            "BOOK_LIST          list             n=50\n",
            "BeautifulSoup      type             <class 'bs4.BeautifulSoup'>\n",
            "DATE               list             n=10\n",
            "Name               str              한창제지\n",
            "PRICE              list             n=10\n",
            "Price              str              2645\n",
            "RANK               list             n=50\n",
            "STOCK_NAME_LIST    list             n=100\n",
            "STOCK_PRICE_LIST   list             n=100\n",
            "a                  Tag              <div class=\"ss_book_box\" <...>\\n</tr>\\n</table>\\n</div>\n",
            "book               Tag              <a class=\"bo3\" href=\"http<...>39377\"><b>그렇게 그렇게</b></a>\n",
            "bookInfo           list             n=2\n",
            "book_list          ResultSet        [<a class=\"bo3\" href=\"htt<...>9377\"><b>그렇게 그렇게</b></a>]\n",
            "bt                 str              그렇게 그렇게\n",
            "chart              DataFrame                 DATE     PRICE\\n<...>\\n9  2021.06.16  1,118.50\n",
            "date               str              2021.06.16\n",
            "df                 type             <class 'pandas.core.frame.DataFrame'>\n",
            "dict_data          dict             n=2\n",
            "div                ResultSet        [<div class=\"ss_book_box\"<...>n</tr>\\n</table>\\n</div>]\n",
            "exchange           function         <function exchange at 0x7f7a96e10d40>\n",
            "i                  int              49\n",
            "price              str              1,118.50\n",
            "requests           module           <module 'requests' from '<...>es/requests/__init__.py'>\n",
            "res                Response         <Response [200]>\n",
            "soup               BeautifulSoup    <html lang=\"ko\">\\n<head>\\<...>script>\\n</body>\\n</html>\n",
            "stockName          NoneType         None\n",
            "stockPrice         NoneType         None\n",
            "tbody              Tag              <tbody>\\n<tr class=\"down\"<...>\\n\t</td>\\n</tr>\\n</tbody>\n",
            "td                 Tag              <tr class=\"up\">\\n<td clas<...>,107.01\\n\t\\n\t</td>\\n</tr>\n",
            "tr                 ResultSet        [<tr class=\"down\">\\n<td c<...>107.01\\n\t\\n\t</td>\\n</tr>]\n",
            "url                str              https://finance.naver.com<...>tindexCd=FX_USDKRW&page=1\n"
          ],
          "name": "stdout"
        }
      ]
    },
    {
      "cell_type": "code",
      "metadata": {
        "colab": {
          "base_uri": "https://localhost:8080/",
          "height": 357
        },
        "id": "jpRbA30GjU0v",
        "outputId": "81057da5-bc37-418f-95fc-c35e3a60001c"
      },
      "source": [
        "exchange(\"JPY\",8)"
      ],
      "execution_count": null,
      "outputs": [
        {
          "output_type": "execute_result",
          "data": {
            "text/html": [
              "<div>\n",
              "<style scoped>\n",
              "    .dataframe tbody tr th:only-of-type {\n",
              "        vertical-align: middle;\n",
              "    }\n",
              "\n",
              "    .dataframe tbody tr th {\n",
              "        vertical-align: top;\n",
              "    }\n",
              "\n",
              "    .dataframe thead th {\n",
              "        text-align: right;\n",
              "    }\n",
              "</style>\n",
              "<table border=\"1\" class=\"dataframe\">\n",
              "  <thead>\n",
              "    <tr style=\"text-align: right;\">\n",
              "      <th></th>\n",
              "      <th>DATE</th>\n",
              "      <th>PRICE</th>\n",
              "    </tr>\n",
              "  </thead>\n",
              "  <tbody>\n",
              "    <tr>\n",
              "      <th>0</th>\n",
              "      <td>2021.03.15</td>\n",
              "      <td>1,039.24</td>\n",
              "    </tr>\n",
              "    <tr>\n",
              "      <th>1</th>\n",
              "      <td>2021.03.12</td>\n",
              "      <td>1,042.33</td>\n",
              "    </tr>\n",
              "    <tr>\n",
              "      <th>2</th>\n",
              "      <td>2021.03.11</td>\n",
              "      <td>1,044.58</td>\n",
              "    </tr>\n",
              "    <tr>\n",
              "      <th>3</th>\n",
              "      <td>2021.03.10</td>\n",
              "      <td>1,050.16</td>\n",
              "    </tr>\n",
              "    <tr>\n",
              "      <th>4</th>\n",
              "      <td>2021.03.09</td>\n",
              "      <td>1,046.94</td>\n",
              "    </tr>\n",
              "    <tr>\n",
              "      <th>5</th>\n",
              "      <td>2021.03.08</td>\n",
              "      <td>1,048.85</td>\n",
              "    </tr>\n",
              "    <tr>\n",
              "      <th>6</th>\n",
              "      <td>2021.03.05</td>\n",
              "      <td>1,040.79</td>\n",
              "    </tr>\n",
              "    <tr>\n",
              "      <th>7</th>\n",
              "      <td>2021.03.04</td>\n",
              "      <td>1,048.32</td>\n",
              "    </tr>\n",
              "    <tr>\n",
              "      <th>8</th>\n",
              "      <td>2021.03.03</td>\n",
              "      <td>1,049.51</td>\n",
              "    </tr>\n",
              "    <tr>\n",
              "      <th>9</th>\n",
              "      <td>2021.03.02</td>\n",
              "      <td>1,052.16</td>\n",
              "    </tr>\n",
              "  </tbody>\n",
              "</table>\n",
              "</div>"
            ],
            "text/plain": [
              "         DATE     PRICE\n",
              "0  2021.03.15  1,039.24\n",
              "1  2021.03.12  1,042.33\n",
              "2  2021.03.11  1,044.58\n",
              "3  2021.03.10  1,050.16\n",
              "4  2021.03.09  1,046.94\n",
              "5  2021.03.08  1,048.85\n",
              "6  2021.03.05  1,040.79\n",
              "7  2021.03.04  1,048.32\n",
              "8  2021.03.03  1,049.51\n",
              "9  2021.03.02  1,052.16"
            ]
          },
          "metadata": {
            "tags": []
          },
          "execution_count": 25
        }
      ]
    },
    {
      "cell_type": "code",
      "metadata": {
        "id": "gL7JmUqGj1iR",
        "colab": {
          "base_uri": "https://localhost:8080/",
          "height": 360
        },
        "outputId": "b3f8394c-0506-44c4-b0b4-4054b4151602"
      },
      "source": [
        "exchange(\"USD\",8)"
      ],
      "execution_count": null,
      "outputs": [
        {
          "output_type": "execute_result",
          "data": {
            "text/html": [
              "<div>\n",
              "<style scoped>\n",
              "    .dataframe tbody tr th:only-of-type {\n",
              "        vertical-align: middle;\n",
              "    }\n",
              "\n",
              "    .dataframe tbody tr th {\n",
              "        vertical-align: top;\n",
              "    }\n",
              "\n",
              "    .dataframe thead th {\n",
              "        text-align: right;\n",
              "    }\n",
              "</style>\n",
              "<table border=\"1\" class=\"dataframe\">\n",
              "  <thead>\n",
              "    <tr style=\"text-align: right;\">\n",
              "      <th></th>\n",
              "      <th>DATE</th>\n",
              "      <th>PRICE</th>\n",
              "    </tr>\n",
              "  </thead>\n",
              "  <tbody>\n",
              "    <tr>\n",
              "      <th>0</th>\n",
              "      <td>2021.03.19</td>\n",
              "      <td>1,130.00</td>\n",
              "    </tr>\n",
              "    <tr>\n",
              "      <th>1</th>\n",
              "      <td>2021.03.18</td>\n",
              "      <td>1,125.00</td>\n",
              "    </tr>\n",
              "    <tr>\n",
              "      <th>2</th>\n",
              "      <td>2021.03.17</td>\n",
              "      <td>1,129.50</td>\n",
              "    </tr>\n",
              "    <tr>\n",
              "      <th>3</th>\n",
              "      <td>2021.03.16</td>\n",
              "      <td>1,130.50</td>\n",
              "    </tr>\n",
              "    <tr>\n",
              "      <th>4</th>\n",
              "      <td>2021.03.15</td>\n",
              "      <td>1,133.50</td>\n",
              "    </tr>\n",
              "    <tr>\n",
              "      <th>5</th>\n",
              "      <td>2021.03.12</td>\n",
              "      <td>1,136.50</td>\n",
              "    </tr>\n",
              "    <tr>\n",
              "      <th>6</th>\n",
              "      <td>2021.03.11</td>\n",
              "      <td>1,133.00</td>\n",
              "    </tr>\n",
              "    <tr>\n",
              "      <th>7</th>\n",
              "      <td>2021.03.10</td>\n",
              "      <td>1,142.00</td>\n",
              "    </tr>\n",
              "    <tr>\n",
              "      <th>8</th>\n",
              "      <td>2021.03.09</td>\n",
              "      <td>1,138.50</td>\n",
              "    </tr>\n",
              "    <tr>\n",
              "      <th>9</th>\n",
              "      <td>2021.03.08</td>\n",
              "      <td>1,138.00</td>\n",
              "    </tr>\n",
              "  </tbody>\n",
              "</table>\n",
              "</div>"
            ],
            "text/plain": [
              "         DATE     PRICE\n",
              "0  2021.03.19  1,130.00\n",
              "1  2021.03.18  1,125.00\n",
              "2  2021.03.17  1,129.50\n",
              "3  2021.03.16  1,130.50\n",
              "4  2021.03.15  1,133.50\n",
              "5  2021.03.12  1,136.50\n",
              "6  2021.03.11  1,133.00\n",
              "7  2021.03.10  1,142.00\n",
              "8  2021.03.09  1,138.50\n",
              "9  2021.03.08  1,138.00"
            ]
          },
          "metadata": {
            "tags": []
          },
          "execution_count": 29
        }
      ]
    }
  ]
}