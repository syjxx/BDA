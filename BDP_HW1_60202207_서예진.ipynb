{
  "nbformat": 4,
  "nbformat_minor": 0,
  "metadata": {
    "colab": {
      "provenance": []
    },
    "kernelspec": {
      "name": "python3",
      "display_name": "Python 3"
    },
    "language_info": {
      "name": "python"
    }
  },
  "cells": [
    {
      "cell_type": "code",
      "execution_count": null,
      "metadata": {
        "id": "EDFZ79_DAJyg"
      },
      "outputs": [],
      "source": [
        "import numpy as np\n",
        "import pandas as pd\n",
        "import seaborn as sns\n",
        "import matplotlib.pyplot as plt"
      ]
    },
    {
      "cell_type": "code",
      "source": [
        "from google.colab import drive\n",
        "drive.mount('/content/drive')"
      ],
      "metadata": {
        "colab": {
          "base_uri": "https://localhost:8080/"
        },
        "id": "CCKUD_zFUR3k",
        "outputId": "3cf5edb9-f83f-47d8-ce99-bb068779b703"
      },
      "execution_count": null,
      "outputs": [
        {
          "output_type": "stream",
          "name": "stdout",
          "text": [
            "Drive already mounted at /content/drive; to attempt to forcibly remount, call drive.mount(\"/content/drive\", force_remount=True).\n"
          ]
        }
      ]
    },
    {
      "cell_type": "code",
      "source": [
        "file1='/content/drive/My Drive/MobilePriceClassification/train.csv'\n",
        "data = pd.read_csv(file1)\n",
        "data.head()"
      ],
      "metadata": {
        "id": "oMAd34gJYShu",
        "colab": {
          "base_uri": "https://localhost:8080/",
          "height": 299
        },
        "outputId": "3a422409-97a1-4e6e-a9d5-268334c14698"
      },
      "execution_count": null,
      "outputs": [
        {
          "output_type": "execute_result",
          "data": {
            "text/plain": [
              "   battery_power  blue  clock_speed  dual_sim  fc  four_g  int_memory  m_dep  \\\n",
              "0            842     0          2.2         0   1       0           7    0.6   \n",
              "1           1021     1          0.5         1   0       1          53    0.7   \n",
              "2            563     1          0.5         1   2       1          41    0.9   \n",
              "3            615     1          2.5         0   0       0          10    0.8   \n",
              "4           1821     1          1.2         0  13       1          44    0.6   \n",
              "\n",
              "   mobile_wt  n_cores  ...  px_height  px_width   ram  sc_h  sc_w  talk_time  \\\n",
              "0        188        2  ...         20       756  2549     9     7         19   \n",
              "1        136        3  ...        905      1988  2631    17     3          7   \n",
              "2        145        5  ...       1263      1716  2603    11     2          9   \n",
              "3        131        6  ...       1216      1786  2769    16     8         11   \n",
              "4        141        2  ...       1208      1212  1411     8     2         15   \n",
              "\n",
              "   three_g  touch_screen  wifi  price_range  \n",
              "0        0             0     1            1  \n",
              "1        1             1     0            2  \n",
              "2        1             1     0            2  \n",
              "3        1             0     0            2  \n",
              "4        1             1     0            1  \n",
              "\n",
              "[5 rows x 21 columns]"
            ],
            "text/html": [
              "\n",
              "  <div id=\"df-2f0fa833-e294-4206-aebd-daa25abb5500\">\n",
              "    <div class=\"colab-df-container\">\n",
              "      <div>\n",
              "<style scoped>\n",
              "    .dataframe tbody tr th:only-of-type {\n",
              "        vertical-align: middle;\n",
              "    }\n",
              "\n",
              "    .dataframe tbody tr th {\n",
              "        vertical-align: top;\n",
              "    }\n",
              "\n",
              "    .dataframe thead th {\n",
              "        text-align: right;\n",
              "    }\n",
              "</style>\n",
              "<table border=\"1\" class=\"dataframe\">\n",
              "  <thead>\n",
              "    <tr style=\"text-align: right;\">\n",
              "      <th></th>\n",
              "      <th>battery_power</th>\n",
              "      <th>blue</th>\n",
              "      <th>clock_speed</th>\n",
              "      <th>dual_sim</th>\n",
              "      <th>fc</th>\n",
              "      <th>four_g</th>\n",
              "      <th>int_memory</th>\n",
              "      <th>m_dep</th>\n",
              "      <th>mobile_wt</th>\n",
              "      <th>n_cores</th>\n",
              "      <th>...</th>\n",
              "      <th>px_height</th>\n",
              "      <th>px_width</th>\n",
              "      <th>ram</th>\n",
              "      <th>sc_h</th>\n",
              "      <th>sc_w</th>\n",
              "      <th>talk_time</th>\n",
              "      <th>three_g</th>\n",
              "      <th>touch_screen</th>\n",
              "      <th>wifi</th>\n",
              "      <th>price_range</th>\n",
              "    </tr>\n",
              "  </thead>\n",
              "  <tbody>\n",
              "    <tr>\n",
              "      <th>0</th>\n",
              "      <td>842</td>\n",
              "      <td>0</td>\n",
              "      <td>2.2</td>\n",
              "      <td>0</td>\n",
              "      <td>1</td>\n",
              "      <td>0</td>\n",
              "      <td>7</td>\n",
              "      <td>0.6</td>\n",
              "      <td>188</td>\n",
              "      <td>2</td>\n",
              "      <td>...</td>\n",
              "      <td>20</td>\n",
              "      <td>756</td>\n",
              "      <td>2549</td>\n",
              "      <td>9</td>\n",
              "      <td>7</td>\n",
              "      <td>19</td>\n",
              "      <td>0</td>\n",
              "      <td>0</td>\n",
              "      <td>1</td>\n",
              "      <td>1</td>\n",
              "    </tr>\n",
              "    <tr>\n",
              "      <th>1</th>\n",
              "      <td>1021</td>\n",
              "      <td>1</td>\n",
              "      <td>0.5</td>\n",
              "      <td>1</td>\n",
              "      <td>0</td>\n",
              "      <td>1</td>\n",
              "      <td>53</td>\n",
              "      <td>0.7</td>\n",
              "      <td>136</td>\n",
              "      <td>3</td>\n",
              "      <td>...</td>\n",
              "      <td>905</td>\n",
              "      <td>1988</td>\n",
              "      <td>2631</td>\n",
              "      <td>17</td>\n",
              "      <td>3</td>\n",
              "      <td>7</td>\n",
              "      <td>1</td>\n",
              "      <td>1</td>\n",
              "      <td>0</td>\n",
              "      <td>2</td>\n",
              "    </tr>\n",
              "    <tr>\n",
              "      <th>2</th>\n",
              "      <td>563</td>\n",
              "      <td>1</td>\n",
              "      <td>0.5</td>\n",
              "      <td>1</td>\n",
              "      <td>2</td>\n",
              "      <td>1</td>\n",
              "      <td>41</td>\n",
              "      <td>0.9</td>\n",
              "      <td>145</td>\n",
              "      <td>5</td>\n",
              "      <td>...</td>\n",
              "      <td>1263</td>\n",
              "      <td>1716</td>\n",
              "      <td>2603</td>\n",
              "      <td>11</td>\n",
              "      <td>2</td>\n",
              "      <td>9</td>\n",
              "      <td>1</td>\n",
              "      <td>1</td>\n",
              "      <td>0</td>\n",
              "      <td>2</td>\n",
              "    </tr>\n",
              "    <tr>\n",
              "      <th>3</th>\n",
              "      <td>615</td>\n",
              "      <td>1</td>\n",
              "      <td>2.5</td>\n",
              "      <td>0</td>\n",
              "      <td>0</td>\n",
              "      <td>0</td>\n",
              "      <td>10</td>\n",
              "      <td>0.8</td>\n",
              "      <td>131</td>\n",
              "      <td>6</td>\n",
              "      <td>...</td>\n",
              "      <td>1216</td>\n",
              "      <td>1786</td>\n",
              "      <td>2769</td>\n",
              "      <td>16</td>\n",
              "      <td>8</td>\n",
              "      <td>11</td>\n",
              "      <td>1</td>\n",
              "      <td>0</td>\n",
              "      <td>0</td>\n",
              "      <td>2</td>\n",
              "    </tr>\n",
              "    <tr>\n",
              "      <th>4</th>\n",
              "      <td>1821</td>\n",
              "      <td>1</td>\n",
              "      <td>1.2</td>\n",
              "      <td>0</td>\n",
              "      <td>13</td>\n",
              "      <td>1</td>\n",
              "      <td>44</td>\n",
              "      <td>0.6</td>\n",
              "      <td>141</td>\n",
              "      <td>2</td>\n",
              "      <td>...</td>\n",
              "      <td>1208</td>\n",
              "      <td>1212</td>\n",
              "      <td>1411</td>\n",
              "      <td>8</td>\n",
              "      <td>2</td>\n",
              "      <td>15</td>\n",
              "      <td>1</td>\n",
              "      <td>1</td>\n",
              "      <td>0</td>\n",
              "      <td>1</td>\n",
              "    </tr>\n",
              "  </tbody>\n",
              "</table>\n",
              "<p>5 rows × 21 columns</p>\n",
              "</div>\n",
              "      <button class=\"colab-df-convert\" onclick=\"convertToInteractive('df-2f0fa833-e294-4206-aebd-daa25abb5500')\"\n",
              "              title=\"Convert this dataframe to an interactive table.\"\n",
              "              style=\"display:none;\">\n",
              "        \n",
              "  <svg xmlns=\"http://www.w3.org/2000/svg\" height=\"24px\"viewBox=\"0 0 24 24\"\n",
              "       width=\"24px\">\n",
              "    <path d=\"M0 0h24v24H0V0z\" fill=\"none\"/>\n",
              "    <path d=\"M18.56 5.44l.94 2.06.94-2.06 2.06-.94-2.06-.94-.94-2.06-.94 2.06-2.06.94zm-11 1L8.5 8.5l.94-2.06 2.06-.94-2.06-.94L8.5 2.5l-.94 2.06-2.06.94zm10 10l.94 2.06.94-2.06 2.06-.94-2.06-.94-.94-2.06-.94 2.06-2.06.94z\"/><path d=\"M17.41 7.96l-1.37-1.37c-.4-.4-.92-.59-1.43-.59-.52 0-1.04.2-1.43.59L10.3 9.45l-7.72 7.72c-.78.78-.78 2.05 0 2.83L4 21.41c.39.39.9.59 1.41.59.51 0 1.02-.2 1.41-.59l7.78-7.78 2.81-2.81c.8-.78.8-2.07 0-2.86zM5.41 20L4 18.59l7.72-7.72 1.47 1.35L5.41 20z\"/>\n",
              "  </svg>\n",
              "      </button>\n",
              "      \n",
              "  <style>\n",
              "    .colab-df-container {\n",
              "      display:flex;\n",
              "      flex-wrap:wrap;\n",
              "      gap: 12px;\n",
              "    }\n",
              "\n",
              "    .colab-df-convert {\n",
              "      background-color: #E8F0FE;\n",
              "      border: none;\n",
              "      border-radius: 50%;\n",
              "      cursor: pointer;\n",
              "      display: none;\n",
              "      fill: #1967D2;\n",
              "      height: 32px;\n",
              "      padding: 0 0 0 0;\n",
              "      width: 32px;\n",
              "    }\n",
              "\n",
              "    .colab-df-convert:hover {\n",
              "      background-color: #E2EBFA;\n",
              "      box-shadow: 0px 1px 2px rgba(60, 64, 67, 0.3), 0px 1px 3px 1px rgba(60, 64, 67, 0.15);\n",
              "      fill: #174EA6;\n",
              "    }\n",
              "\n",
              "    [theme=dark] .colab-df-convert {\n",
              "      background-color: #3B4455;\n",
              "      fill: #D2E3FC;\n",
              "    }\n",
              "\n",
              "    [theme=dark] .colab-df-convert:hover {\n",
              "      background-color: #434B5C;\n",
              "      box-shadow: 0px 1px 3px 1px rgba(0, 0, 0, 0.15);\n",
              "      filter: drop-shadow(0px 1px 2px rgba(0, 0, 0, 0.3));\n",
              "      fill: #FFFFFF;\n",
              "    }\n",
              "  </style>\n",
              "\n",
              "      <script>\n",
              "        const buttonEl =\n",
              "          document.querySelector('#df-2f0fa833-e294-4206-aebd-daa25abb5500 button.colab-df-convert');\n",
              "        buttonEl.style.display =\n",
              "          google.colab.kernel.accessAllowed ? 'block' : 'none';\n",
              "\n",
              "        async function convertToInteractive(key) {\n",
              "          const element = document.querySelector('#df-2f0fa833-e294-4206-aebd-daa25abb5500');\n",
              "          const dataTable =\n",
              "            await google.colab.kernel.invokeFunction('convertToInteractive',\n",
              "                                                     [key], {});\n",
              "          if (!dataTable) return;\n",
              "\n",
              "          const docLinkHtml = 'Like what you see? Visit the ' +\n",
              "            '<a target=\"_blank\" href=https://colab.research.google.com/notebooks/data_table.ipynb>data table notebook</a>'\n",
              "            + ' to learn more about interactive tables.';\n",
              "          element.innerHTML = '';\n",
              "          dataTable['output_type'] = 'display_data';\n",
              "          await google.colab.output.renderOutput(dataTable, element);\n",
              "          const docLink = document.createElement('div');\n",
              "          docLink.innerHTML = docLinkHtml;\n",
              "          element.appendChild(docLink);\n",
              "        }\n",
              "      </script>\n",
              "    </div>\n",
              "  </div>\n",
              "  "
            ]
          },
          "metadata": {},
          "execution_count": 4
        }
      ]
    },
    {
      "cell_type": "code",
      "source": [
        "data.isnull().sum() #결측치 확인"
      ],
      "metadata": {
        "id": "sji1RKo2ZDUM"
      },
      "execution_count": null,
      "outputs": []
    },
    {
      "cell_type": "code",
      "source": [
        "#target 데이터 value 확인 :카테고리형 데이터\n",
        "data['price_range'].unique()"
      ],
      "metadata": {
        "id": "xUfUGpIuZMNo"
      },
      "execution_count": null,
      "outputs": []
    },
    {
      "cell_type": "code",
      "source": [
        "#Correlation 상관분석\n",
        "corr=data.corr()\n",
        "corr.sort_values(by=[\"price_range\"],ascending=False).iloc[0].sort_values(ascending=False)\n",
        "#ram, battery_power, px_width, px_height 가 top 4 features라고 볼 수 있다."
      ],
      "metadata": {
        "id": "yAGSzyTnZMSk"
      },
      "execution_count": null,
      "outputs": []
    },
    {
      "cell_type": "code",
      "source": [
        "#Chi-square test 카이제곱 검정\n",
        "from scipy.stats import chi2_contingency\n",
        "\n",
        "feature_chi=[]\n",
        "for i in ['battery_power', 'blue', 'clock_speed', 'dual_sim', 'fc', 'four_g',\n",
        "       'int_memory', 'm_dep', 'mobile_wt', 'n_cores', 'pc', 'px_height',\n",
        "       'px_width', 'ram', 'sc_h', 'sc_w', 'talk_time', 'three_g',\n",
        "       'touch_screen', 'wifi']:\n",
        "       chi_res  = chi2_contingency(pd.crosstab(data['price_range'], data[i],))\n",
        "       if chi_res[1] < 0.1:\n",
        "         feature_chi.append(i)\n",
        "\n",
        "print(feature_chi)\n",
        "#'battery_power', 'int_memory', 'ram', 'sc_w' 가  top 4 features라고 볼 수 있다."
      ],
      "metadata": {
        "colab": {
          "base_uri": "https://localhost:8080/"
        },
        "id": "22BDGN-bMrze",
        "outputId": "0c331209-0071-47f6-b478-94b494025eae"
      },
      "execution_count": null,
      "outputs": [
        {
          "output_type": "stream",
          "name": "stdout",
          "text": [
            "['battery_power', 'int_memory', 'ram', 'sc_w']\n"
          ]
        }
      ]
    },
    {
      "cell_type": "code",
      "source": [
        "## Forward feature selection 전진 선택법\n",
        "\n",
        "import statsmodels.api as sm\n",
        "\n",
        "variables = data.columns[:-1].tolist()\n",
        "\n",
        "y = data['price_range']\n",
        "selected_variables = []\n",
        "sl_enter = 0.05\n",
        "\n",
        "sv_per_step = []\n",
        "adjusted_r_squared = []\n",
        "steps = []\n",
        "step = 0\n",
        "while len(variables) > 0:\n",
        "    remainder = list(set(variables) - set(selected_variables))\n",
        "    pval = pd.Series(index=remainder)\n",
        "\n",
        "    for col in remainder:\n",
        "        X = data[selected_variables+[col]]\n",
        "        X = sm.add_constant(X)\n",
        "        model = sm.OLS(y,X).fit()\n",
        "        pval[col] = model.pvalues[col]\n",
        "\n",
        "    min_pval = pval.min()\n",
        "    if min_pval < sl_enter:\n",
        "        selected_variables.append(pval.idxmin())\n",
        "\n",
        "        step += 1\n",
        "        steps.append(step)\n",
        "        adj_r_squared = sm.OLS(y,sm.add_constant(data[selected_variables])).fit().rsquared_adj\n",
        "        adjusted_r_squared.append(adj_r_squared)\n",
        "        sv_per_step.append(selected_variables.copy())\n",
        "    else:\n",
        "        break"
      ],
      "metadata": {
        "id": "KickjUZuTr-v"
      },
      "execution_count": null,
      "outputs": []
    },
    {
      "cell_type": "code",
      "source": [
        "selected_variables"
      ],
      "metadata": {
        "colab": {
          "base_uri": "https://localhost:8080/"
        },
        "id": "AMM5Av0vUpdI",
        "outputId": "22f0fe79-398e-449d-b1a5-a166ca8a19e7"
      },
      "execution_count": null,
      "outputs": [
        {
          "output_type": "execute_result",
          "data": {
            "text/plain": [
              "['ram', 'battery_power', 'px_height', 'px_width', 'mobile_wt', 'int_memory']"
            ]
          },
          "metadata": {},
          "execution_count": 11
        }
      ]
    },
    {
      "cell_type": "code",
      "source": [
        "import matplotlib.pyplot as plt\n",
        "fig = plt.figure(figsize=(10,8))\n",
        "\n",
        "plt.xticks(steps,['\\n'.join(sv_per_step[i]) for i,s in enumerate(steps)], fontsize=12)\n",
        "plt.plot(steps,adjusted_r_squared, marker='o')\n",
        "\n",
        "plt.ylabel('Adjusted R Squared',fontsize=15)\n",
        "plt.grid(True)\n",
        "plt.show()\n",
        "\n",
        "#ram, battery_power, px_width, px_height 가 top 4 features라고 볼 수 있다."
      ],
      "metadata": {
        "colab": {
          "base_uri": "https://localhost:8080/",
          "height": 561
        },
        "id": "hwSnXPUrU26z",
        "outputId": "01bda97d-9cf0-4c56-c34c-84008b967af8"
      },
      "execution_count": null,
      "outputs": [
        {
          "output_type": "display_data",
          "data": {
            "text/plain": [
              "<Figure size 720x576 with 1 Axes>"
            ],
            "image/png": "[encoded data removed]"
          },
          "metadata": {
            "needs_background": "light"
          }
        }
      ]
    },
    {
      "cell_type": "code",
      "source": [
        "# Lasso Regression feature selection\n",
        "from sklearn.linear_model import Lasso\n",
        "from sklearn.model_selection import train_test_split\n",
        "\n",
        "feature = data.drop(columns='price_range')\n",
        "target = data['price_range']\n",
        "X_train, X_test, Y_train, Y_test = train_test_split(feature, target, test_size = 0.2, random_state = 30)\n",
        "lasso = Lasso(alpha= 10).fit(X_train, Y_train)\n",
        "\n",
        "feature_list = lasso.feature_names_in_[lasso.coef_ != 0]\n",
        "\n",
        "print(feature_list)\n",
        "\n",
        "#ram, battery_power, px_width, px_height 가 top 4 features라고 볼 수 있다."
      ],
      "metadata": {
        "colab": {
          "base_uri": "https://localhost:8080/"
        },
        "id": "p-1RqOK6gMq9",
        "outputId": "e711d524-0e4f-4fdc-a549-9e903510605d"
      },
      "execution_count": null,
      "outputs": [
        {
          "output_type": "stream",
          "name": "stdout",
          "text": [
            "['battery_power' 'px_height' 'px_width' 'ram']\n"
          ]
        }
      ]
    },
    {
      "cell_type": "code",
      "source": [
        "#PCA\n",
        "from sklearn.decomposition import PCA\n",
        "\n",
        "x = data.drop(columns='price_range')\n",
        "y = data['price_range']\n",
        "\n",
        "pca = PCA(n_components=4)\n",
        "printcipalComponents = pca.fit_transform(x)\n",
        "principalDf = pd.DataFrame(data=printcipalComponents, columns = ['principal component1', 'principal component2' , 'principal component3' , 'principal component4'])\n",
        "\n",
        "principalDf.head()"
      ],
      "metadata": {
        "colab": {
          "base_uri": "https://localhost:8080/",
          "height": 206
        },
        "id": "HkMesOzMkPtK",
        "outputId": "17cd133f-29dd-44e2-a4ef-4a6791b71def"
      },
      "execution_count": null,
      "outputs": [
        {
          "output_type": "execute_result",
          "data": {
            "text/plain": [
              "   principal component1  principal component2  principal component3  \\\n",
              "0            430.597094           -795.788231           -390.070331   \n",
              "1            504.984735            696.622368           -235.629081   \n",
              "2            473.329828            763.942136           -680.059466   \n",
              "3            639.822324            779.691180           -630.783647   \n",
              "4           -718.985184            382.304525            591.040362   \n",
              "\n",
              "   principal component4  \n",
              "0             55.636140  \n",
              "1            343.925977  \n",
              "2           -113.916880  \n",
              "3            -30.402246  \n",
              "4           -392.357235  "
            ],
            "text/html": [
              "\n",
              "  <div id=\"df-f9885482-35de-47d1-aa5b-c3e1424b62df\">\n",
              "    <div class=\"colab-df-container\">\n",
              "      <div>\n",
              "<style scoped>\n",
              "    .dataframe tbody tr th:only-of-type {\n",
              "        vertical-align: middle;\n",
              "    }\n",
              "\n",
              "    .dataframe tbody tr th {\n",
              "        vertical-align: top;\n",
              "    }\n",
              "\n",
              "    .dataframe thead th {\n",
              "        text-align: right;\n",
              "    }\n",
              "</style>\n",
              "<table border=\"1\" class=\"dataframe\">\n",
              "  <thead>\n",
              "    <tr style=\"text-align: right;\">\n",
              "      <th></th>\n",
              "      <th>principal component1</th>\n",
              "      <th>principal component2</th>\n",
              "      <th>principal component3</th>\n",
              "      <th>principal component4</th>\n",
              "    </tr>\n",
              "  </thead>\n",
              "  <tbody>\n",
              "    <tr>\n",
              "      <th>0</th>\n",
              "      <td>430.597094</td>\n",
              "      <td>-795.788231</td>\n",
              "      <td>-390.070331</td>\n",
              "      <td>55.636140</td>\n",
              "    </tr>\n",
              "    <tr>\n",
              "      <th>1</th>\n",
              "      <td>504.984735</td>\n",
              "      <td>696.622368</td>\n",
              "      <td>-235.629081</td>\n",
              "      <td>343.925977</td>\n",
              "    </tr>\n",
              "    <tr>\n",
              "      <th>2</th>\n",
              "      <td>473.329828</td>\n",
              "      <td>763.942136</td>\n",
              "      <td>-680.059466</td>\n",
              "      <td>-113.916880</td>\n",
              "    </tr>\n",
              "    <tr>\n",
              "      <th>3</th>\n",
              "      <td>639.822324</td>\n",
              "      <td>779.691180</td>\n",
              "      <td>-630.783647</td>\n",
              "      <td>-30.402246</td>\n",
              "    </tr>\n",
              "    <tr>\n",
              "      <th>4</th>\n",
              "      <td>-718.985184</td>\n",
              "      <td>382.304525</td>\n",
              "      <td>591.040362</td>\n",
              "      <td>-392.357235</td>\n",
              "    </tr>\n",
              "  </tbody>\n",
              "</table>\n",
              "</div>\n",
              "      <button class=\"colab-df-convert\" onclick=\"convertToInteractive('df-f9885482-35de-47d1-aa5b-c3e1424b62df')\"\n",
              "              title=\"Convert this dataframe to an interactive table.\"\n",
              "              style=\"display:none;\">\n",
              "        \n",
              "  <svg xmlns=\"http://www.w3.org/2000/svg\" height=\"24px\"viewBox=\"0 0 24 24\"\n",
              "       width=\"24px\">\n",
              "    <path d=\"M0 0h24v24H0V0z\" fill=\"none\"/>\n",
              "    <path d=\"M18.56 5.44l.94 2.06.94-2.06 2.06-.94-2.06-.94-.94-2.06-.94 2.06-2.06.94zm-11 1L8.5 8.5l.94-2.06 2.06-.94-2.06-.94L8.5 2.5l-.94 2.06-2.06.94zm10 10l.94 2.06.94-2.06 2.06-.94-2.06-.94-.94-2.06-.94 2.06-2.06.94z\"/><path d=\"M17.41 7.96l-1.37-1.37c-.4-.4-.92-.59-1.43-.59-.52 0-1.04.2-1.43.59L10.3 9.45l-7.72 7.72c-.78.78-.78 2.05 0 2.83L4 21.41c.39.39.9.59 1.41.59.51 0 1.02-.2 1.41-.59l7.78-7.78 2.81-2.81c.8-.78.8-2.07 0-2.86zM5.41 20L4 18.59l7.72-7.72 1.47 1.35L5.41 20z\"/>\n",
              "  </svg>\n",
              "      </button>\n",
              "      \n",
              "  <style>\n",
              "    .colab-df-container {\n",
              "      display:flex;\n",
              "      flex-wrap:wrap;\n",
              "      gap: 12px;\n",
              "    }\n",
              "\n",
              "    .colab-df-convert {\n",
              "      background-color: #E8F0FE;\n",
              "      border: none;\n",
              "      border-radius: 50%;\n",
              "      cursor: pointer;\n",
              "      display: none;\n",
              "      fill: #1967D2;\n",
              "      height: 32px;\n",
              "      padding: 0 0 0 0;\n",
              "      width: 32px;\n",
              "    }\n",
              "\n",
              "    .colab-df-convert:hover {\n",
              "      background-color: #E2EBFA;\n",
              "      box-shadow: 0px 1px 2px rgba(60, 64, 67, 0.3), 0px 1px 3px 1px rgba(60, 64, 67, 0.15);\n",
              "      fill: #174EA6;\n",
              "    }\n",
              "\n",
              "    [theme=dark] .colab-df-convert {\n",
              "      background-color: #3B4455;\n",
              "      fill: #D2E3FC;\n",
              "    }\n",
              "\n",
              "    [theme=dark] .colab-df-convert:hover {\n",
              "      background-color: #434B5C;\n",
              "      box-shadow: 0px 1px 3px 1px rgba(0, 0, 0, 0.15);\n",
              "      filter: drop-shadow(0px 1px 2px rgba(0, 0, 0, 0.3));\n",
              "      fill: #FFFFFF;\n",
              "    }\n",
              "  </style>\n",
              "\n",
              "      <script>\n",
              "        const buttonEl =\n",
              "          document.querySelector('#df-f9885482-35de-47d1-aa5b-c3e1424b62df button.colab-df-convert');\n",
              "        buttonEl.style.display =\n",
              "          google.colab.kernel.accessAllowed ? 'block' : 'none';\n",
              "\n",
              "        async function convertToInteractive(key) {\n",
              "          const element = document.querySelector('#df-f9885482-35de-47d1-aa5b-c3e1424b62df');\n",
              "          const dataTable =\n",
              "            await google.colab.kernel.invokeFunction('convertToInteractive',\n",
              "                                                     [key], {});\n",
              "          if (!dataTable) return;\n",
              "\n",
              "          const docLinkHtml = 'Like what you see? Visit the ' +\n",
              "            '<a target=\"_blank\" href=https://colab.research.google.com/notebooks/data_table.ipynb>data table notebook</a>'\n",
              "            + ' to learn more about interactive tables.';\n",
              "          element.innerHTML = '';\n",
              "          dataTable['output_type'] = 'display_data';\n",
              "          await google.colab.output.renderOutput(dataTable, element);\n",
              "          const docLink = document.createElement('div');\n",
              "          docLink.innerHTML = docLinkHtml;\n",
              "          element.appendChild(docLink);\n",
              "        }\n",
              "      </script>\n",
              "    </div>\n",
              "  </div>\n",
              "  "
            ]
          },
          "metadata": {},
          "execution_count": 15
        }
      ]
    },
    {
      "cell_type": "code",
      "source": [
        "pca.explained_variance_ratio_"
      ],
      "metadata": {
        "colab": {
          "base_uri": "https://localhost:8080/"
        },
        "id": "L-8WesE23JVT",
        "outputId": "660ff0b9-8f38-488f-e541-57099a86da09"
      },
      "execution_count": null,
      "outputs": [
        {
          "output_type": "execute_result",
          "data": {
            "text/plain": [
              "array([0.67043941, 0.16517913, 0.1100616 , 0.05334496])"
            ]
          },
          "metadata": {},
          "execution_count": 16
        }
      ]
    },
    {
      "cell_type": "code",
      "source": [
        "sum(pca.explained_variance_ratio_)"
      ],
      "metadata": {
        "colab": {
          "base_uri": "https://localhost:8080/"
        },
        "id": "PQDiFNf_QDay",
        "outputId": "1f37da60-2c2f-4156-d771-f01775133716"
      },
      "execution_count": null,
      "outputs": [
        {
          "output_type": "execute_result",
          "data": {
            "text/plain": [
              "0.999025096331274"
            ]
          },
          "metadata": {},
          "execution_count": 17
        }
      ]
    },
    {
      "cell_type": "markdown",
      "source": [
        " LogisticRegression모델"
      ],
      "metadata": {
        "id": "69ZUnv7Iu54I"
      }
    },
    {
      "cell_type": "code",
      "source": [
        "from sklearn.model_selection import train_test_split\n",
        "from sklearn.linear_model import LogisticRegression"
      ],
      "metadata": {
        "id": "7j4sjZ_yknmM"
      },
      "execution_count": null,
      "outputs": []
    },
    {
      "cell_type": "code",
      "source": [
        "#Correlation / Forward feature selection / Lasso Regression 의 top4 features로 만든 LogisticRegression모델\n",
        "# top4 features: 'ram', 'battery_power', 'px_height', 'px_width'\n",
        "features = data[['ram', 'battery_power', 'px_height', 'px_width' ]]\n",
        "target = data['price_range']\n",
        "train_features, test_features, train_labels, test_labels = train_test_split(features, target, random_state= 30)\n",
        "\n",
        "model_top4 = LogisticRegression()\n",
        "model_top4.fit(train_features, train_labels)"
      ],
      "metadata": {
        "id": "BpNlzTbggGA6"
      },
      "execution_count": null,
      "outputs": []
    },
    {
      "cell_type": "code",
      "source": [
        "#trainset\n",
        "print(\"trainset: \")\n",
        "print(model_top4.score(train_features, train_labels))\n",
        "\n",
        "#testsets\n",
        "print(\"testset: \")\n",
        "print(model_top4.score(test_features, test_labels))"
      ],
      "metadata": {
        "colab": {
          "base_uri": "https://localhost:8080/"
        },
        "id": "EG5KZQysgzVw",
        "outputId": "e170e6bd-7f3d-4551-85d2-73334b5f5002"
      },
      "execution_count": null,
      "outputs": [
        {
          "output_type": "stream",
          "name": "stdout",
          "text": [
            "trainset: \n",
            "0.9566666666666667\n",
            "testset: \n",
            "0.972\n"
          ]
        }
      ]
    },
    {
      "cell_type": "code",
      "source": [
        "from sklearn.manifold import TSNE\n",
        "from sklearn.datasets import load_digits"
      ],
      "metadata": {
        "id": "HwN3l9eezdEx"
      },
      "execution_count": null,
      "outputs": []
    },
    {
      "cell_type": "code",
      "source": [
        "#Correlation / Forward feature selection / Lasso Regression 의 top4 features로 만든 LogisticRegression모델 시각화\n",
        "train_df = data[['ram', 'battery_power', 'px_height', 'px_width']]\n",
        "tsne_np = TSNE(n_components = 2).fit_transform(train_df)\n",
        "tsne_df = pd.DataFrame(tsne_np, columns = ['component 0', 'component 1'])"
      ],
      "metadata": {
        "id": "NwNWhSVPvEyS"
      },
      "execution_count": null,
      "outputs": []
    },
    {
      "cell_type": "code",
      "source": [
        "import matplotlib.pyplot as plt\n",
        "\n",
        "tsne_df['target'] = data['price_range']\n",
        "\n",
        "tsne_df_0 = tsne_df[tsne_df['target'] == 0]\n",
        "tsne_df_1 = tsne_df[tsne_df['target'] == 1]\n",
        "tsne_df_2 = tsne_df[tsne_df['target'] == 2]\n",
        "tsne_df_3 = tsne_df[tsne_df['target'] == 3]\n",
        "\n",
        "plt.scatter(tsne_df_0['component 0'], tsne_df_0['component 1'], color = 'pink', label = '0')\n",
        "plt.scatter(tsne_df_1['component 0'], tsne_df_1['component 1'], color = 'purple', label = '1')\n",
        "plt.scatter(tsne_df_2['component 0'], tsne_df_2['component 1'], color = 'yellow', label = '2')\n",
        "plt.scatter(tsne_df_3['component 0'], tsne_df_3['component 1'], color = 'blue', label = '3')\n",
        "\n",
        "plt.xlabel('component 0')\n",
        "plt.ylabel('component 1')\n",
        "plt.legend()\n",
        "plt.show()"
      ],
      "metadata": {
        "colab": {
          "base_uri": "https://localhost:8080/",
          "height": 279
        },
        "id": "gMG_dOIjvOEY",
        "outputId": "7f71057b-65ca-4cca-c0ab-15aa3b3b8304"
      },
      "execution_count": null,
      "outputs": [
        {
          "output_type": "display_data",
          "data": {
            "text/plain": [
              "<Figure size 432x288 with 1 Axes>"
            ],
            "image/png": "[encoded data removed]"
          },
          "metadata": {
            "needs_background": "light"
          }
        }
      ]
    },
    {
      "cell_type": "code",
      "source": [
        "#Chi-square test로 만든 LogisticRegression모델\n",
        "features = data[['battery_power', 'int_memory', 'ram', 'sc_w']]\n",
        "target = data['price_range']\n",
        "train_features, test_features, train_labels, test_labels = train_test_split(features, target, random_state= 30)\n",
        "\n",
        "model_chi2 = LogisticRegression()\n",
        "model_chi2.fit(train_features, train_labels)"
      ],
      "metadata": {
        "id": "Etw--xnPUQbs"
      },
      "execution_count": null,
      "outputs": []
    },
    {
      "cell_type": "code",
      "source": [
        "#trainset\n",
        "print(\"trainset: \")\n",
        "print(model_chi2.score(train_features, train_labels))\n",
        "\n",
        "#testsets\n",
        "print(\"testset: \")\n",
        "print(model_chi2.score(test_features, test_labels))"
      ],
      "metadata": {
        "colab": {
          "base_uri": "https://localhost:8080/"
        },
        "id": "KI3Dlp6TUgU7",
        "outputId": "0ea2f99b-297f-4190-c6d5-67d6244355cf"
      },
      "execution_count": null,
      "outputs": [
        {
          "output_type": "stream",
          "name": "stdout",
          "text": [
            "trainset: \n",
            "0.516\n",
            "testset: \n",
            "0.534\n"
          ]
        }
      ]
    },
    {
      "cell_type": "code",
      "source": [
        "#Chi-square test의 top4 features로 만든 LogisticRegression모델 시각화\n",
        "train_df = data[['ram', 'battery_power','sc_w' ]]\n",
        "tsne_np = TSNE(n_components = 2).fit_transform(train_df)\n",
        "tsne_df = pd.DataFrame(tsne_np, columns = ['component 0', 'component 1'])"
      ],
      "metadata": {
        "colab": {
          "base_uri": "https://localhost:8080/"
        },
        "id": "FAb_DqdRUyQe",
        "outputId": "47967c27-a9c7-435a-ed12-29eda0e61a34"
      },
      "execution_count": null,
      "outputs": [
        {
          "output_type": "stream",
          "name": "stderr",
          "text": [
            "/usr/local/lib/python3.7/dist-packages/sklearn/manifold/_t_sne.py:783: FutureWarning: The default initialization in TSNE will change from 'random' to 'pca' in 1.2.\n",
            "  FutureWarning,\n",
            "/usr/local/lib/python3.7/dist-packages/sklearn/manifold/_t_sne.py:793: FutureWarning: The default learning rate in TSNE will change from 200.0 to 'auto' in 1.2.\n",
            "  FutureWarning,\n"
          ]
        }
      ]
    },
    {
      "cell_type": "code",
      "source": [
        "import matplotlib.pyplot as plt\n",
        "\n",
        "tsne_df['target'] = data['price_range']\n",
        "\n",
        "tsne_df_0 = tsne_df[tsne_df['target'] == 0]\n",
        "tsne_df_1 = tsne_df[tsne_df['target'] == 1]\n",
        "tsne_df_2 = tsne_df[tsne_df['target'] == 2]\n",
        "tsne_df_3 = tsne_df[tsne_df['target'] == 3]\n",
        "\n",
        "plt.scatter(tsne_df_0['component 0'], tsne_df_0['component 1'], color = 'pink', label = '0')\n",
        "plt.scatter(tsne_df_1['component 0'], tsne_df_1['component 1'], color = 'purple', label = '1')\n",
        "plt.scatter(tsne_df_2['component 0'], tsne_df_2['component 1'], color = 'yellow', label = '2')\n",
        "plt.scatter(tsne_df_3['component 0'], tsne_df_3['component 1'], color = 'blue', label = '3')\n",
        "\n",
        "plt.xlabel('component 0')\n",
        "plt.ylabel('component 1')\n",
        "plt.legend()\n",
        "plt.show()"
      ],
      "metadata": {
        "colab": {
          "base_uri": "https://localhost:8080/",
          "height": 279
        },
        "id": "hTziAIKzU2ir",
        "outputId": "8cf4a2e2-caec-4d51-bbbc-10b900eef157"
      },
      "execution_count": null,
      "outputs": [
        {
          "output_type": "display_data",
          "data": {
            "text/plain": [
              "<Figure size 432x288 with 1 Axes>"
            ],
            "image/png": "[encoded data removed]"
          },
          "metadata": {
            "needs_background": "light"
          }
        }
      ]
    },
    {
      "cell_type": "code",
      "source": [
        "#PCA의 top4 features로 만든 LogisticRegression모델\n",
        "\n",
        "features = principalDf\n",
        "target = data['price_range']\n",
        "train_features, test_features, train_labels, test_labels = train_test_split(features, target, random_state= 30)\n",
        "\n",
        "model_pca = LogisticRegression()\n",
        "model_pca.fit(train_features, train_labels)"
      ],
      "metadata": {
        "id": "c2Ic01sFg3uf",
        "colab": {
          "base_uri": "https://localhost:8080/"
        },
        "outputId": "4fdbd74e-66cf-46b0-e76e-03013a997f42"
      },
      "execution_count": null,
      "outputs": [
        {
          "output_type": "stream",
          "name": "stderr",
          "text": [
            "/usr/local/lib/python3.7/dist-packages/sklearn/linear_model/_logistic.py:818: ConvergenceWarning: lbfgs failed to converge (status=1):\n",
            "STOP: TOTAL NO. of ITERATIONS REACHED LIMIT.\n",
            "\n",
            "Increase the number of iterations (max_iter) or scale the data as shown in:\n",
            "    https://scikit-learn.org/stable/modules/preprocessing.html\n",
            "Please also refer to the documentation for alternative solver options:\n",
            "    https://scikit-learn.org/stable/modules/linear_model.html#logistic-regression\n",
            "  extra_warning_msg=_LOGISTIC_SOLVER_CONVERGENCE_MSG,\n"
          ]
        },
        {
          "output_type": "execute_result",
          "data": {
            "text/plain": [
              "LogisticRegression()"
            ]
          },
          "metadata": {},
          "execution_count": 118
        }
      ]
    },
    {
      "cell_type": "code",
      "source": [
        "#trainset\n",
        "print(\"trainset: \")\n",
        "print(model_pca.score(train_features, train_labels))\n",
        "\n",
        "#testsets\n",
        "print(\"testset: \")\n",
        "print(model_pca.score(test_features, test_labels))"
      ],
      "metadata": {
        "colab": {
          "base_uri": "https://localhost:8080/"
        },
        "id": "FQtzt8xyhIVO",
        "outputId": "05deb1c7-c8c5-4d2e-8028-d1a8fdaf823a"
      },
      "execution_count": null,
      "outputs": [
        {
          "output_type": "stream",
          "name": "stdout",
          "text": [
            "trainset: \n",
            "0.9593333333333334\n",
            "testset: \n",
            "0.97\n"
          ]
        }
      ]
    },
    {
      "cell_type": "code",
      "source": [
        "#PCA의 top4 features로 만든 LogisticRegression모델 시각화\n",
        "\n",
        "train_df = principalDf\n",
        "tsne_np = TSNE(n_components = 2).fit_transform(train_df)\n",
        "tsne_df = pd.DataFrame(tsne_np, columns = ['component 0', 'component 1'])"
      ],
      "metadata": {
        "colab": {
          "base_uri": "https://localhost:8080/"
        },
        "id": "Ovg4ban57XQ8",
        "outputId": "3ab8d71e-1872-4d97-dd86-c1767f7db086"
      },
      "execution_count": null,
      "outputs": [
        {
          "output_type": "stream",
          "name": "stderr",
          "text": [
            "/usr/local/lib/python3.7/dist-packages/sklearn/manifold/_t_sne.py:783: FutureWarning: The default initialization in TSNE will change from 'random' to 'pca' in 1.2.\n",
            "  FutureWarning,\n",
            "/usr/local/lib/python3.7/dist-packages/sklearn/manifold/_t_sne.py:793: FutureWarning: The default learning rate in TSNE will change from 200.0 to 'auto' in 1.2.\n",
            "  FutureWarning,\n"
          ]
        }
      ]
    },
    {
      "cell_type": "code",
      "source": [
        "tsne_df['target'] = data['price_range']\n",
        "\n",
        "tsne_df_0 = tsne_df[tsne_df['target'] == 0]\n",
        "tsne_df_1 = tsne_df[tsne_df['target'] == 1]\n",
        "tsne_df_2 = tsne_df[tsne_df['target'] == 2]\n",
        "tsne_df_3 = tsne_df[tsne_df['target'] == 3]\n",
        "\n",
        "plt.scatter(tsne_df_0['component 0'], tsne_df_0['component 1'], color = 'pink', label = '0')\n",
        "plt.scatter(tsne_df_1['component 0'], tsne_df_1['component 1'], color = 'purple', label = '1')\n",
        "plt.scatter(tsne_df_2['component 0'], tsne_df_2['component 1'], color = 'yellow', label = '2')\n",
        "plt.scatter(tsne_df_3['component 0'], tsne_df_3['component 1'], color = 'blue', label = '3')\n",
        "\n",
        "plt.xlabel('component 0')\n",
        "plt.ylabel('component 1')\n",
        "plt.legend()\n",
        "plt.show()"
      ],
      "metadata": {
        "colab": {
          "base_uri": "https://localhost:8080/",
          "height": 279
        },
        "id": "pCpGTPDn7fC1",
        "outputId": "cc02f773-c585-468f-c2b6-87311413ba30"
      },
      "execution_count": null,
      "outputs": [
        {
          "output_type": "display_data",
          "data": {
            "text/plain": [
              "<Figure size 432x288 with 1 Axes>"
            ],
            "image/png": "[encoded data removed]"
          },
          "metadata": {
            "needs_background": "light"
          }
        }
      ]
    },
    {
      "cell_type": "code",
      "source": [
        "#전체 features로 만든 LogisticRegression모델\n",
        "features = data.drop(columns='price_range')\n",
        "target = data['price_range']\n",
        "train_features, test_features, train_labels, test_labels = train_test_split(features, target, random_state= 30)\n",
        "\n",
        "model_all = LogisticRegression()\n",
        "model_all.fit(train_features, train_labels)"
      ],
      "metadata": {
        "colab": {
          "base_uri": "https://localhost:8080/"
        },
        "id": "886zjF0FiRyf",
        "outputId": "0e8c76e8-0f94-4613-b641-c7c88624b54e"
      },
      "execution_count": null,
      "outputs": [
        {
          "output_type": "stream",
          "name": "stderr",
          "text": [
            "/usr/local/lib/python3.7/dist-packages/sklearn/linear_model/_logistic.py:818: ConvergenceWarning: lbfgs failed to converge (status=1):\n",
            "STOP: TOTAL NO. of ITERATIONS REACHED LIMIT.\n",
            "\n",
            "Increase the number of iterations (max_iter) or scale the data as shown in:\n",
            "    https://scikit-learn.org/stable/modules/preprocessing.html\n",
            "Please also refer to the documentation for alternative solver options:\n",
            "    https://scikit-learn.org/stable/modules/linear_model.html#logistic-regression\n",
            "  extra_warning_msg=_LOGISTIC_SOLVER_CONVERGENCE_MSG,\n"
          ]
        },
        {
          "output_type": "execute_result",
          "data": {
            "text/plain": [
              "LogisticRegression()"
            ]
          },
          "metadata": {},
          "execution_count": 75
        }
      ]
    },
    {
      "cell_type": "code",
      "source": [
        "#trainset\n",
        "print(\"trainset: \")\n",
        "print(model_all.score(train_features, train_labels))\n",
        "\n",
        "#testsets\n",
        "print(\"testset: \")\n",
        "print(model_all.score(test_features, test_labels))"
      ],
      "metadata": {
        "colab": {
          "base_uri": "https://localhost:8080/"
        },
        "id": "_OZEvTOHkSiy",
        "outputId": "44f63049-4ec6-4177-8f85-98be5b602fd3"
      },
      "execution_count": null,
      "outputs": [
        {
          "output_type": "stream",
          "name": "stdout",
          "text": [
            "trainset: \n",
            "0.6373333333333333\n",
            "testset: \n",
            "0.666\n"
          ]
        }
      ]
    },
    {
      "cell_type": "code",
      "source": [
        "#전체 features로 만든 LogisticRegression모델 시각화\n",
        "train_df = data.drop(columns='price_range')\n",
        "tsne_np = TSNE(n_components = 2).fit_transform(train_df)\n",
        "tsne_df = pd.DataFrame(tsne_np, columns = ['component 0', 'component 1'])"
      ],
      "metadata": {
        "colab": {
          "base_uri": "https://localhost:8080/"
        },
        "id": "1thwJWjdkbvx",
        "outputId": "22ed4884-470b-4b5c-8731-63716c69da1c"
      },
      "execution_count": null,
      "outputs": [
        {
          "output_type": "stream",
          "name": "stderr",
          "text": [
            "/usr/local/lib/python3.7/dist-packages/sklearn/manifold/_t_sne.py:783: FutureWarning: The default initialization in TSNE will change from 'random' to 'pca' in 1.2.\n",
            "  FutureWarning,\n",
            "/usr/local/lib/python3.7/dist-packages/sklearn/manifold/_t_sne.py:793: FutureWarning: The default learning rate in TSNE will change from 200.0 to 'auto' in 1.2.\n",
            "  FutureWarning,\n"
          ]
        }
      ]
    },
    {
      "cell_type": "code",
      "source": [
        "tsne_df['target'] = data['price_range']\n",
        "\n",
        "tsne_df_0 = tsne_df[tsne_df['target'] == 0]\n",
        "tsne_df_1 = tsne_df[tsne_df['target'] == 1]\n",
        "tsne_df_2 = tsne_df[tsne_df['target'] == 2]\n",
        "tsne_df_3 = tsne_df[tsne_df['target'] == 3]\n",
        "\n",
        "plt.scatter(tsne_df_0['component 0'], tsne_df_0['component 1'], color = 'pink', label = '0')\n",
        "plt.scatter(tsne_df_1['component 0'], tsne_df_1['component 1'], color = 'purple', label = '1')\n",
        "plt.scatter(tsne_df_2['component 0'], tsne_df_2['component 1'], color = 'yellow', label = '2')\n",
        "plt.scatter(tsne_df_3['component 0'], tsne_df_3['component 1'], color = 'blue', label = '3')\n",
        "\n",
        "plt.xlabel('component 0')\n",
        "plt.ylabel('component 1')\n",
        "plt.legend()\n",
        "plt.show()"
      ],
      "metadata": {
        "colab": {
          "base_uri": "https://localhost:8080/",
          "height": 279
        },
        "id": "7mabZMIdtQMe",
        "outputId": "c2f06518-93f8-494b-b15e-c2ccc1013195"
      },
      "execution_count": null,
      "outputs": [
        {
          "output_type": "display_data",
          "data": {
            "text/plain": [
              "<Figure size 432x288 with 1 Axes>"
            ],
            "image/png": "[encoded data removed]"
          },
          "metadata": {
            "needs_background": "light"
          }
        }
      ]
    }
  ]
}