{
  "nbformat": 4,
  "nbformat_minor": 0,
  "metadata": {
    "colab": {
      "provenance": []
    },
    "kernelspec": {
      "name": "python3",
      "display_name": "Python 3"
    },
    "language_info": {
      "name": "python"
    }
  },
  "cells": [
    {
      "cell_type": "markdown",
      "source": [
        "필수과제1 - 개념정리\n",
        "\n",
        "*   micro: 전체 중에 평균\n",
        "*   macro: 평균 중에 평균\n",
        "*   weighted: 가중 평균"
      ],
      "metadata": {
        "id": "KfNSnLdaEkj-"
      }
    },
    {
      "cell_type": "code",
      "source": [
        "from sklearn.datasets import load_iris\n",
        "from sklearn.tree import DecisionTreeClassifier\n",
        "from sklearn.model_selection import train_test_split\n",
        "from sklearn.metrics import accuracy_score, precision_score, recall_score #Confusion matrix 수업 때 진행할 예정\n",
        "from sklearn.model_selection import KFold\n",
        "from sklearn.metrics import classification_report\n",
        "import numpy as np\n",
        "import pandas as pd"
      ],
      "metadata": {
        "id": "_mWh9M2QL0z5"
      },
      "execution_count": null,
      "outputs": []
    },
    {
      "cell_type": "code",
      "source": [
        "#데이터 로드\n",
        "iris = load_iris()\n",
        "features = iris.data\n",
        "label= iris.target"
      ],
      "metadata": {
        "id": "HqxNu3QdKMwP"
      },
      "execution_count": null,
      "outputs": []
    },
    {
      "cell_type": "code",
      "source": [
        "from sklearn.model_selection import StratifiedKFold"
      ],
      "metadata": {
        "id": "sHsoo4GaJoJ9"
      },
      "execution_count": null,
      "outputs": []
    },
    {
      "cell_type": "markdown",
      "source": [
        "micro"
      ],
      "metadata": {
        "id": "1jnERjwhQ3k4"
      }
    },
    {
      "cell_type": "code",
      "source": [
        "result_skfold = StratifiedKFold(n_splits=3)\n",
        "result_clf = DecisionTreeClassifier(random_state=100)\n",
        "#StratifiedKFold를 통해 Kfold에서 발생할 수 있는 데이터 편향 방지\n",
        "\n",
        "cv_accuracy=[]\n",
        "cv_precision=[]\n",
        "cv_recall=[]\n",
        "#정확도, 정밀도, 재현율\n",
        "\n",
        "n_iter = 0\n",
        "for train_idx, test_idx in result_skfold.split(features, label):\n",
        "  #데이터 분할\n",
        "    X_train, X_test = features[train_idx], features[test_idx]\n",
        "    y_train, y_test = label[train_idx], label[test_idx]\n",
        "    #학습을 진행\n",
        "    result_clf.fit(X_train, y_train)\n",
        "    #예측\n",
        "    pred = result_clf.predict(X_test)\n",
        "\n",
        "    #정확도 관련해서 측정\n",
        "    n_iter +=1\n",
        "    accuracy = np.round(accuracy_score(y_test, pred),3)\n",
        "    precision = np.round(precision_score(y_test,pred, average='micro'),3)\n",
        "    recall = np.round(recall_score(y_test, pred, average='micro'),3)\n",
        "    print('{} 교차검증 정확도 : {}, 교차검증 precision :{}, 교차검증 recall :{}\\n'.format(n_iter, accuracy, precision, recall))\n",
        "    cv_accuracy.append(accuracy)\n",
        "    cv_precision.append(precision)\n",
        "    cv_recall.append(recall)\n",
        "\n",
        "print('\\n')\n",
        "mic_ac , mic_pre, mic_re = np.mean(cv_accuracy), np.mean(cv_precision), np.mean(cv_recall)\n",
        "print('\\n 평균 검증 정확도', mic_ac , mic_pre, mic_re)"
      ],
      "metadata": {
        "colab": {
          "base_uri": "https://localhost:8080/"
        },
        "id": "iFiQF3ajJxAd",
        "outputId": "08ea5161-21df-4bd0-cb86-56990d7c79cb"
      },
      "execution_count": null,
      "outputs": [
        {
          "output_type": "stream",
          "name": "stdout",
          "text": [
            "1 교차검증 정확도 : 0.98, 교차검증 precision :0.98, 교차검증 recall :0.98\n",
            "\n",
            "2 교차검증 정확도 : 0.92, 교차검증 precision :0.92, 교차검증 recall :0.92\n",
            "\n",
            "3 교차검증 정확도 : 0.96, 교차검증 precision :0.96, 교차검증 recall :0.96\n",
            "\n",
            "\n",
            "\n",
            "\n",
            " 평균 검증 정확도 0.9533333333333333 0.9533333333333333 0.9533333333333333\n"
          ]
        }
      ]
    },
    {
      "cell_type": "markdown",
      "source": [
        "macro"
      ],
      "metadata": {
        "id": "CcoOarn2Q60d"
      }
    },
    {
      "cell_type": "code",
      "source": [
        "result_skfold = StratifiedKFold(n_splits=3)\n",
        "result_clf = DecisionTreeClassifier(random_state=100)\n",
        "#StratifiedKFold를 통해 Kfold에서 발생할 수 있는 데이터 편향 방지\n",
        "\n",
        "cv_accuracy=[]\n",
        "cv_precision=[]\n",
        "cv_recall=[]\n",
        "#정확도, 정밀도, 재현율\n",
        "\n",
        "n_iter = 0\n",
        "for train_idx, test_idx in result_skfold.split(features, label):\n",
        "  #데이터 분할\n",
        "    X_train, X_test = features[train_idx], features[test_idx]\n",
        "    y_train, y_test = label[train_idx], label[test_idx]\n",
        "    #학습을 진행\n",
        "    result_clf.fit(X_train, y_train)\n",
        "    #예측\n",
        "    pred = result_clf.predict(X_test)\n",
        "\n",
        "    #정확도 관련해서 측정\n",
        "    n_iter +=1\n",
        "    accuracy = np.round(accuracy_score(y_test, pred),3)\n",
        "    precision = np.round(precision_score(y_test,pred, average='macro'),3)\n",
        "    recall = np.round(recall_score(y_test, pred, average='macro'),3)\n",
        "    print('{} 교차검증 정확도 : {}, 교차검증 precision :{}, 교차검증 recall :{}\\n'.format(n_iter, accuracy, precision, recall))\n",
        "    cv_accuracy.append(accuracy)\n",
        "    cv_precision.append(precision)\n",
        "    cv_recall.append(recall)\n",
        "\n",
        "print('\\n')\n",
        "mac_ac , mac_pre, mac_re = np.mean(cv_accuracy), np.mean(cv_precision), np.mean(cv_recall)\n",
        "print('\\n 평균 검증 정확도', mac_ac , mac_pre, mac_re)"
      ],
      "metadata": {
        "colab": {
          "base_uri": "https://localhost:8080/"
        },
        "id": "kGOsdnh0Q6S_",
        "outputId": "95b54f2d-b180-42f0-c9d6-2af95968187a"
      },
      "execution_count": null,
      "outputs": [
        {
          "output_type": "stream",
          "name": "stdout",
          "text": [
            "1 교차검증 정확도 : 0.98, 교차검증 precision :0.981, 교차검증 recall :0.979\n",
            "\n",
            "2 교차검증 정확도 : 0.92, 교차검증 precision :0.919, 교차검증 recall :0.919\n",
            "\n",
            "3 교차검증 정확도 : 0.96, 교차검증 precision :0.961, 교차검증 recall :0.961\n",
            "\n",
            "\n",
            "\n",
            "\n",
            " 평균 검증 정확도 0.9533333333333333 0.9536666666666666 0.953\n"
          ]
        }
      ]
    },
    {
      "cell_type": "markdown",
      "source": [
        "weighted"
      ],
      "metadata": {
        "id": "CCiGRWI5Rb2I"
      }
    },
    {
      "cell_type": "code",
      "source": [
        "result_skfold = StratifiedKFold(n_splits=3)\n",
        "result_clf = DecisionTreeClassifier(random_state=100)\n",
        "#StratifiedKFold를 통해 Kfold에서 발생할 수 있는 데이터 편향 방지\n",
        "\n",
        "cv_accuracy=[]\n",
        "cv_precision=[]\n",
        "cv_recall=[]\n",
        "#정확도, 정밀도, 재현율\n",
        "\n",
        "n_iter = 0\n",
        "for train_idx, test_idx in result_skfold.split(features, label):\n",
        "  #데이터 분할\n",
        "    X_train, X_test = features[train_idx], features[test_idx]\n",
        "    y_train, y_test = label[train_idx], label[test_idx]\n",
        "    #학습을 진행\n",
        "    result_clf.fit(X_train, y_train)\n",
        "    #예측\n",
        "    pred = result_clf.predict(X_test)\n",
        "\n",
        "    #정확도 관련해서 측정\n",
        "    n_iter +=1\n",
        "    accuracy = np.round(accuracy_score(y_test, pred),3)\n",
        "    precision = np.round(precision_score(y_test,pred, average='weighted'),3)\n",
        "    recall = np.round(recall_score(y_test, pred, average='weighted'),3)\n",
        "    print('{} 교차검증 정확도 : {}, 교차검증 precision :{}, 교차검증 recall :{}\\n'.format(n_iter, accuracy, precision, recall))\n",
        "    cv_accuracy.append(accuracy)\n",
        "    cv_precision.append(precision)\n",
        "    cv_recall.append(recall)\n",
        "\n",
        "print('\\n')\n",
        "wei_ac , wei_pre, wei_re = np.mean(cv_accuracy), np.mean(cv_precision), np.mean(cv_recall)\n",
        "print('\\n 평균 검증 정확도', wei_ac , wei_pre, wei_re)"
      ],
      "metadata": {
        "colab": {
          "base_uri": "https://localhost:8080/"
        },
        "id": "mXD0wleIQ-Fl",
        "outputId": "75b6ff70-0901-4ef2-f7b4-90ecbe7aeb3a"
      },
      "execution_count": null,
      "outputs": [
        {
          "output_type": "stream",
          "name": "stdout",
          "text": [
            "1 교차검증 정확도 : 0.98, 교차검증 precision :0.981, 교차검증 recall :0.98\n",
            "\n",
            "2 교차검증 정확도 : 0.92, 교차검증 precision :0.92, 교차검증 recall :0.92\n",
            "\n",
            "3 교차검증 정확도 : 0.96, 교차검증 precision :0.96, 교차검증 recall :0.96\n",
            "\n",
            "\n",
            "\n",
            "\n",
            " 평균 검증 정확도 0.9533333333333333 0.9536666666666666 0.9533333333333333\n"
          ]
        }
      ]
    },
    {
      "cell_type": "code",
      "source": [
        "#정확도 차이. 순서대로 micro, macro, weighted\n",
        "m = [mic_ac, mac_ac, wei_ac]\n",
        "print(m)"
      ],
      "metadata": {
        "colab": {
          "base_uri": "https://localhost:8080/"
        },
        "id": "y_JbxdrKZ-nA",
        "outputId": "2adf8d92-4766-4587-8906-4f8aa1316fa2"
      },
      "execution_count": null,
      "outputs": [
        {
          "output_type": "stream",
          "name": "stdout",
          "text": [
            "[0.9533333333333333, 0.9533333333333333, 0.9533333333333333]\n"
          ]
        }
      ]
    },
    {
      "cell_type": "code",
      "source": [
        "#정밀도 차이. 순서대로 micro, macro, weighted\n",
        "m = [mic_pre, mac_pre, wei_pre]\n",
        "print(m)"
      ],
      "metadata": {
        "colab": {
          "base_uri": "https://localhost:8080/"
        },
        "id": "AgvhnVABatZW",
        "outputId": "8c2d65b5-16c7-43ea-f051-d7320f36af2a"
      },
      "execution_count": null,
      "outputs": [
        {
          "output_type": "stream",
          "name": "stdout",
          "text": [
            "[0.9533333333333333, 0.9536666666666666, 0.9536666666666666]\n"
          ]
        }
      ]
    },
    {
      "cell_type": "code",
      "source": [
        "#재현율 차이. 순서대로 micro, macro, weighted\n",
        "m = [mic_re, mac_re, wei_re]\n",
        "print(m)"
      ],
      "metadata": {
        "colab": {
          "base_uri": "https://localhost:8080/"
        },
        "id": "h8VWaZ1Oatxd",
        "outputId": "4026e82b-64ed-45f4-a61e-37fc7f10235d"
      },
      "execution_count": null,
      "outputs": [
        {
          "output_type": "stream",
          "name": "stdout",
          "text": [
            "[0.9533333333333333, 0.953, 0.9533333333333333]\n"
          ]
        }
      ]
    }
  ]
}